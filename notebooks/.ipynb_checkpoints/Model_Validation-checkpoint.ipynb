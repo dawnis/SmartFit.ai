{
 "cells": [
  {
   "cell_type": "code",
   "execution_count": 1,
   "metadata": {
    "ExecuteTime": {
     "end_time": "2018-06-19T16:26:54.629297Z",
     "start_time": "2018-06-19T16:26:53.989196Z"
    }
   },
   "outputs": [],
   "source": [
    "import pandas as pd\n",
    "import numpy as np\n",
    "import pickle\n",
    "from scipy.sparse import csr_matrix\n",
    "import matplotlib.pyplot as plt\n",
    "\n",
    "from src.fashion_tools import DeepFashion_Attributes\n",
    "\n",
    "%load_ext autoreload\n",
    "%autoreload 2\n",
    "%matplotlib inline"
   ]
  },
  {
   "cell_type": "code",
   "execution_count": 3,
   "metadata": {
    "ExecuteTime": {
     "end_time": "2018-06-19T16:28:17.424139Z",
     "start_time": "2018-06-19T16:28:16.239768Z"
    }
   },
   "outputs": [
    {
     "data": {
      "text/html": [
       "<div>\n",
       "<style scoped>\n",
       "    .dataframe tbody tr th:only-of-type {\n",
       "        vertical-align: middle;\n",
       "    }\n",
       "\n",
       "    .dataframe tbody tr th {\n",
       "        vertical-align: top;\n",
       "    }\n",
       "\n",
       "    .dataframe thead th {\n",
       "        text-align: right;\n",
       "    }\n",
       "</style>\n",
       "<table border=\"1\" class=\"dataframe\">\n",
       "  <thead>\n",
       "    <tr style=\"text-align: right;\">\n",
       "      <th></th>\n",
       "      <th>a-line</th>\n",
       "      <th>abstract</th>\n",
       "      <th>abstract chevron</th>\n",
       "      <th>abstract chevron print</th>\n",
       "      <th>abstract diamond</th>\n",
       "      <th>abstract floral</th>\n",
       "      <th>abstract floral print</th>\n",
       "      <th>abstract geo</th>\n",
       "      <th>abstract geo print</th>\n",
       "      <th>abstract paisley</th>\n",
       "      <th>...</th>\n",
       "      <th>zeppelin</th>\n",
       "      <th>zig</th>\n",
       "      <th>zigzag</th>\n",
       "      <th>zip</th>\n",
       "      <th>zip-front</th>\n",
       "      <th>zip-pocket</th>\n",
       "      <th>zip-up</th>\n",
       "      <th>zipped</th>\n",
       "      <th>zipper</th>\n",
       "      <th>zippered</th>\n",
       "    </tr>\n",
       "  </thead>\n",
       "  <tbody>\n",
       "    <tr>\n",
       "      <th>img/Sheer_Pleated-Front_Blouse/img_00000001.jpg</th>\n",
       "      <td>0</td>\n",
       "      <td>0</td>\n",
       "      <td>0</td>\n",
       "      <td>0</td>\n",
       "      <td>0</td>\n",
       "      <td>0</td>\n",
       "      <td>0</td>\n",
       "      <td>0</td>\n",
       "      <td>0</td>\n",
       "      <td>0</td>\n",
       "      <td>...</td>\n",
       "      <td>0</td>\n",
       "      <td>0</td>\n",
       "      <td>0</td>\n",
       "      <td>0</td>\n",
       "      <td>0</td>\n",
       "      <td>0</td>\n",
       "      <td>0</td>\n",
       "      <td>0</td>\n",
       "      <td>0</td>\n",
       "      <td>0</td>\n",
       "    </tr>\n",
       "    <tr>\n",
       "      <th>img/Sheer_Pleated-Front_Blouse/img_00000002.jpg</th>\n",
       "      <td>0</td>\n",
       "      <td>0</td>\n",
       "      <td>0</td>\n",
       "      <td>0</td>\n",
       "      <td>0</td>\n",
       "      <td>0</td>\n",
       "      <td>0</td>\n",
       "      <td>0</td>\n",
       "      <td>0</td>\n",
       "      <td>0</td>\n",
       "      <td>...</td>\n",
       "      <td>0</td>\n",
       "      <td>0</td>\n",
       "      <td>0</td>\n",
       "      <td>0</td>\n",
       "      <td>0</td>\n",
       "      <td>0</td>\n",
       "      <td>0</td>\n",
       "      <td>0</td>\n",
       "      <td>0</td>\n",
       "      <td>0</td>\n",
       "    </tr>\n",
       "    <tr>\n",
       "      <th>img/Sheer_Pleated-Front_Blouse/img_00000003.jpg</th>\n",
       "      <td>0</td>\n",
       "      <td>0</td>\n",
       "      <td>0</td>\n",
       "      <td>0</td>\n",
       "      <td>0</td>\n",
       "      <td>0</td>\n",
       "      <td>0</td>\n",
       "      <td>0</td>\n",
       "      <td>0</td>\n",
       "      <td>0</td>\n",
       "      <td>...</td>\n",
       "      <td>0</td>\n",
       "      <td>0</td>\n",
       "      <td>0</td>\n",
       "      <td>0</td>\n",
       "      <td>0</td>\n",
       "      <td>0</td>\n",
       "      <td>0</td>\n",
       "      <td>0</td>\n",
       "      <td>0</td>\n",
       "      <td>0</td>\n",
       "    </tr>\n",
       "    <tr>\n",
       "      <th>img/Sheer_Pleated-Front_Blouse/img_00000004.jpg</th>\n",
       "      <td>0</td>\n",
       "      <td>0</td>\n",
       "      <td>0</td>\n",
       "      <td>0</td>\n",
       "      <td>0</td>\n",
       "      <td>0</td>\n",
       "      <td>0</td>\n",
       "      <td>0</td>\n",
       "      <td>0</td>\n",
       "      <td>0</td>\n",
       "      <td>...</td>\n",
       "      <td>0</td>\n",
       "      <td>0</td>\n",
       "      <td>0</td>\n",
       "      <td>0</td>\n",
       "      <td>0</td>\n",
       "      <td>0</td>\n",
       "      <td>0</td>\n",
       "      <td>0</td>\n",
       "      <td>0</td>\n",
       "      <td>0</td>\n",
       "    </tr>\n",
       "    <tr>\n",
       "      <th>img/Sheer_Pleated-Front_Blouse/img_00000005.jpg</th>\n",
       "      <td>0</td>\n",
       "      <td>0</td>\n",
       "      <td>0</td>\n",
       "      <td>0</td>\n",
       "      <td>0</td>\n",
       "      <td>0</td>\n",
       "      <td>0</td>\n",
       "      <td>0</td>\n",
       "      <td>0</td>\n",
       "      <td>0</td>\n",
       "      <td>...</td>\n",
       "      <td>0</td>\n",
       "      <td>0</td>\n",
       "      <td>0</td>\n",
       "      <td>0</td>\n",
       "      <td>0</td>\n",
       "      <td>0</td>\n",
       "      <td>0</td>\n",
       "      <td>0</td>\n",
       "      <td>0</td>\n",
       "      <td>0</td>\n",
       "    </tr>\n",
       "  </tbody>\n",
       "</table>\n",
       "<p>5 rows × 1000 columns</p>\n",
       "</div>"
      ],
      "text/plain": [
       "                                                 a-line  abstract  \\\n",
       "img/Sheer_Pleated-Front_Blouse/img_00000001.jpg       0         0   \n",
       "img/Sheer_Pleated-Front_Blouse/img_00000002.jpg       0         0   \n",
       "img/Sheer_Pleated-Front_Blouse/img_00000003.jpg       0         0   \n",
       "img/Sheer_Pleated-Front_Blouse/img_00000004.jpg       0         0   \n",
       "img/Sheer_Pleated-Front_Blouse/img_00000005.jpg       0         0   \n",
       "\n",
       "                                                 abstract chevron  \\\n",
       "img/Sheer_Pleated-Front_Blouse/img_00000001.jpg                 0   \n",
       "img/Sheer_Pleated-Front_Blouse/img_00000002.jpg                 0   \n",
       "img/Sheer_Pleated-Front_Blouse/img_00000003.jpg                 0   \n",
       "img/Sheer_Pleated-Front_Blouse/img_00000004.jpg                 0   \n",
       "img/Sheer_Pleated-Front_Blouse/img_00000005.jpg                 0   \n",
       "\n",
       "                                                 abstract chevron print  \\\n",
       "img/Sheer_Pleated-Front_Blouse/img_00000001.jpg                       0   \n",
       "img/Sheer_Pleated-Front_Blouse/img_00000002.jpg                       0   \n",
       "img/Sheer_Pleated-Front_Blouse/img_00000003.jpg                       0   \n",
       "img/Sheer_Pleated-Front_Blouse/img_00000004.jpg                       0   \n",
       "img/Sheer_Pleated-Front_Blouse/img_00000005.jpg                       0   \n",
       "\n",
       "                                                 abstract diamond  \\\n",
       "img/Sheer_Pleated-Front_Blouse/img_00000001.jpg                 0   \n",
       "img/Sheer_Pleated-Front_Blouse/img_00000002.jpg                 0   \n",
       "img/Sheer_Pleated-Front_Blouse/img_00000003.jpg                 0   \n",
       "img/Sheer_Pleated-Front_Blouse/img_00000004.jpg                 0   \n",
       "img/Sheer_Pleated-Front_Blouse/img_00000005.jpg                 0   \n",
       "\n",
       "                                                 abstract floral  \\\n",
       "img/Sheer_Pleated-Front_Blouse/img_00000001.jpg                0   \n",
       "img/Sheer_Pleated-Front_Blouse/img_00000002.jpg                0   \n",
       "img/Sheer_Pleated-Front_Blouse/img_00000003.jpg                0   \n",
       "img/Sheer_Pleated-Front_Blouse/img_00000004.jpg                0   \n",
       "img/Sheer_Pleated-Front_Blouse/img_00000005.jpg                0   \n",
       "\n",
       "                                                 abstract floral print  \\\n",
       "img/Sheer_Pleated-Front_Blouse/img_00000001.jpg                      0   \n",
       "img/Sheer_Pleated-Front_Blouse/img_00000002.jpg                      0   \n",
       "img/Sheer_Pleated-Front_Blouse/img_00000003.jpg                      0   \n",
       "img/Sheer_Pleated-Front_Blouse/img_00000004.jpg                      0   \n",
       "img/Sheer_Pleated-Front_Blouse/img_00000005.jpg                      0   \n",
       "\n",
       "                                                 abstract geo  \\\n",
       "img/Sheer_Pleated-Front_Blouse/img_00000001.jpg             0   \n",
       "img/Sheer_Pleated-Front_Blouse/img_00000002.jpg             0   \n",
       "img/Sheer_Pleated-Front_Blouse/img_00000003.jpg             0   \n",
       "img/Sheer_Pleated-Front_Blouse/img_00000004.jpg             0   \n",
       "img/Sheer_Pleated-Front_Blouse/img_00000005.jpg             0   \n",
       "\n",
       "                                                 abstract geo print  \\\n",
       "img/Sheer_Pleated-Front_Blouse/img_00000001.jpg                   0   \n",
       "img/Sheer_Pleated-Front_Blouse/img_00000002.jpg                   0   \n",
       "img/Sheer_Pleated-Front_Blouse/img_00000003.jpg                   0   \n",
       "img/Sheer_Pleated-Front_Blouse/img_00000004.jpg                   0   \n",
       "img/Sheer_Pleated-Front_Blouse/img_00000005.jpg                   0   \n",
       "\n",
       "                                                 abstract paisley    ...     \\\n",
       "img/Sheer_Pleated-Front_Blouse/img_00000001.jpg                 0    ...      \n",
       "img/Sheer_Pleated-Front_Blouse/img_00000002.jpg                 0    ...      \n",
       "img/Sheer_Pleated-Front_Blouse/img_00000003.jpg                 0    ...      \n",
       "img/Sheer_Pleated-Front_Blouse/img_00000004.jpg                 0    ...      \n",
       "img/Sheer_Pleated-Front_Blouse/img_00000005.jpg                 0    ...      \n",
       "\n",
       "                                                 zeppelin  zig  zigzag  zip  \\\n",
       "img/Sheer_Pleated-Front_Blouse/img_00000001.jpg         0    0       0    0   \n",
       "img/Sheer_Pleated-Front_Blouse/img_00000002.jpg         0    0       0    0   \n",
       "img/Sheer_Pleated-Front_Blouse/img_00000003.jpg         0    0       0    0   \n",
       "img/Sheer_Pleated-Front_Blouse/img_00000004.jpg         0    0       0    0   \n",
       "img/Sheer_Pleated-Front_Blouse/img_00000005.jpg         0    0       0    0   \n",
       "\n",
       "                                                 zip-front  zip-pocket  \\\n",
       "img/Sheer_Pleated-Front_Blouse/img_00000001.jpg          0           0   \n",
       "img/Sheer_Pleated-Front_Blouse/img_00000002.jpg          0           0   \n",
       "img/Sheer_Pleated-Front_Blouse/img_00000003.jpg          0           0   \n",
       "img/Sheer_Pleated-Front_Blouse/img_00000004.jpg          0           0   \n",
       "img/Sheer_Pleated-Front_Blouse/img_00000005.jpg          0           0   \n",
       "\n",
       "                                                 zip-up  zipped  zipper  \\\n",
       "img/Sheer_Pleated-Front_Blouse/img_00000001.jpg       0       0       0   \n",
       "img/Sheer_Pleated-Front_Blouse/img_00000002.jpg       0       0       0   \n",
       "img/Sheer_Pleated-Front_Blouse/img_00000003.jpg       0       0       0   \n",
       "img/Sheer_Pleated-Front_Blouse/img_00000004.jpg       0       0       0   \n",
       "img/Sheer_Pleated-Front_Blouse/img_00000005.jpg       0       0       0   \n",
       "\n",
       "                                                 zippered  \n",
       "img/Sheer_Pleated-Front_Blouse/img_00000001.jpg         0  \n",
       "img/Sheer_Pleated-Front_Blouse/img_00000002.jpg         0  \n",
       "img/Sheer_Pleated-Front_Blouse/img_00000003.jpg         0  \n",
       "img/Sheer_Pleated-Front_Blouse/img_00000004.jpg         0  \n",
       "img/Sheer_Pleated-Front_Blouse/img_00000005.jpg         0  \n",
       "\n",
       "[5 rows x 1000 columns]"
      ]
     },
     "execution_count": 3,
     "metadata": {},
     "output_type": "execute_result"
    }
   ],
   "source": [
    "with open('models/img_attr_sparse.pkl', 'rb') as S:\n",
    "    img_attr_values = pickle.load(S)\n",
    "\n",
    "with open ('models/img_attr_rows.pkl', 'rb') as S:\n",
    "    img_attr_rows = pickle.load(S)\n",
    "    \n",
    "with open('models/img_attr_columns.pkl', 'rb') as S:\n",
    "    img_attr_columns = pickle.load(S)\n",
    "\n",
    "img_attr_values = img_attr_values.toarray()\n",
    "img_attr_df = pd.DataFrame(img_attr_values, columns = img_attr_columns, index=img_attr_rows)\n",
    "\n",
    "img_attr_df.head(5)"
   ]
  },
  {
   "cell_type": "code",
   "execution_count": 4,
   "metadata": {
    "ExecuteTime": {
     "end_time": "2018-06-19T16:28:27.656591Z",
     "start_time": "2018-06-19T16:28:18.121809Z"
    }
   },
   "outputs": [],
   "source": [
    "att_vector = DeepFashion_Attributes(\"Top\", img_attr_df)"
   ]
  },
  {
   "cell_type": "markdown",
   "metadata": {},
   "source": [
    "# Now that we have our attribute vector for tops, what should we do?\n",
    "\n",
    "For each top match, how many of positive attributes match the random selection?\n",
    "\n",
    "What are the chances that this type of matching would occur randomly?\n",
    "\n",
    "The expected value of two randomly chosen vectors will be the dot product of the overall frequencies (att_vector @ att_vector)\n",
    "\n",
    "The distribution of dot products will tell us where the matching lies in relation to the random case. So: we need to compute the dot product of each image in \"Top\"  with its best non-self match. To do this, we should parallelize the computation and send it to a cluster"
   ]
  },
  {
   "cell_type": "code",
   "execution_count": 19,
   "metadata": {
    "ExecuteTime": {
     "end_time": "2018-06-19T23:24:07.431191Z",
     "start_time": "2018-06-19T23:24:07.397918Z"
    }
   },
   "outputs": [
    {
     "data": {
      "text/plain": [
       "(10078, 786)"
      ]
     },
     "execution_count": 19,
     "metadata": {},
     "output_type": "execute_result"
    }
   ],
   "source": [
    "fv = np.load('features/current_feature_vector.npy')\n",
    "#fv = np.load('features/current_feature_vector_hsv.npy')\n",
    "#fv = np.load('features/current_feature_vector_hog.npy')\n",
    "#fv = np.load('features/current_feature_vector_ae.npy')\n",
    "fv.shape"
   ]
  },
  {
   "cell_type": "code",
   "execution_count": 42,
   "metadata": {
    "ExecuteTime": {
     "end_time": "2018-06-20T00:31:28.793792Z",
     "start_time": "2018-06-20T00:31:28.191530Z"
    }
   },
   "outputs": [],
   "source": [
    "from src.fashion_tools import fashion_similarity\n",
    "\n",
    "deepKeys = [keyname for keyname in att_vector.index]\n",
    "\n",
    "def compute_similarity_index(choice, fv, deepKeys):\n",
    "    #choice = deepKeys[index]\n",
    "    similarity_scores = fashion_similarity(choice, fv, deepKeys)\n",
    "    similarity_scores[deepKeys.index(choice)] = np.max(similarity_scores)\n",
    "    closest = np.argsort(np.array(similarity_scores))\n",
    "    return [deepKeys[matc] for matc in closest[:5]]\n",
    "\n",
    "def fashion_dot_best_match(choice, fv, deepKeys, att_vector):\n",
    "    current_vector = att_vector.loc[choice]\n",
    "    bestMatch = compute_similarity_index(choice, fv, deepKeys)\n",
    "    dotResults = np.zeros(shape=5, dtype='float32')\n",
    "    for m, match in enumerate(bestMatch):\n",
    "        match_vector = att_vector.loc[match]\n",
    "        dotResults[m] = current_vector.dot(match_vector)\n",
    "    return np.array([dotResults[0], np.sum(dotResults)])\n",
    "\n",
    "def process_dots_chunk(chunk, fv, deepKeys, att_vector):\n",
    "    chunk_dots_results = [fashion_dot_best_match(K, fv, deepKeys, att_vector) for K in chunk]\n",
    "    return np.array(chunk_dots_results)\n",
    "\n",
    "def process_overlap_chunk(chunk, fv, deepKeys, att_vector):\n",
    "    chunk_overlap_results = [fashion_top5_overlap(K, fv, deepKeys, att_vector) for K in chunk]\n",
    "    return np.array(chunk_overlap_results)\n",
    "\n",
    "def fashion_top5_overlap(choice, fv, deepKeys, att_vector):\n",
    "    \"\"\"asks overlap of top5 from both attributes and features\"\"\"\n",
    "    fvMatch = compute_similarity_index(choice, fv, deepKeys)\n",
    "    attMatch = compute_similarity_index(choice, att_vector.values, deepKeys)\n",
    "    return 10 - len(set(fvMatch+attMatch))\n",
    "    \n",
    "#fashion_dot_best_match(deepKeys[55], fv, deepKeys, att_vector)\n",
    "#process_dots_chunk([deepKeys[K] for K in range(100)], fv, deepKeys, att_vector)\n",
    "\n",
    "overlap = fashion_top5_overlap(deepKeys[0], fv, deepKeys, att_vector)"
   ]
  },
  {
   "cell_type": "code",
   "execution_count": 41,
   "metadata": {
    "ExecuteTime": {
     "end_time": "2018-06-20T00:30:03.219804Z",
     "start_time": "2018-06-20T00:30:03.205108Z"
    }
   },
   "outputs": [
    {
     "data": {
      "text/plain": [
       "0"
      ]
     },
     "execution_count": 41,
     "metadata": {},
     "output_type": "execute_result"
    }
   ],
   "source": [
    "overlap"
   ]
  },
  {
   "cell_type": "code",
   "execution_count": 37,
   "metadata": {
    "ExecuteTime": {
     "end_time": "2018-06-20T00:26:41.483178Z",
     "start_time": "2018-06-20T00:26:41.471412Z"
    }
   },
   "outputs": [
    {
     "data": {
      "text/plain": [
       "10"
      ]
     },
     "execution_count": 37,
     "metadata": {},
     "output_type": "execute_result"
    }
   ],
   "source": [
    "len(set(a+b))"
   ]
  },
  {
   "cell_type": "code",
   "execution_count": 39,
   "metadata": {
    "ExecuteTime": {
     "end_time": "2018-06-20T00:26:56.444226Z",
     "start_time": "2018-06-20T00:26:56.422341Z"
    }
   },
   "outputs": [
    {
     "data": {
      "text/plain": [
       "5"
      ]
     },
     "execution_count": 39,
     "metadata": {},
     "output_type": "execute_result"
    }
   ],
   "source": [
    "len(b)"
   ]
  },
  {
   "cell_type": "code",
   "execution_count": 43,
   "metadata": {
    "ExecuteTime": {
     "end_time": "2018-06-20T00:31:57.573077Z",
     "start_time": "2018-06-20T00:31:57.558510Z"
    }
   },
   "outputs": [],
   "source": [
    "from joblib import Parallel, delayed\n",
    "chunksize = 1260\n",
    "dataChunks=[]\n",
    "for m in range(7):\n",
    "    dataChunks.append( [deepKeys[K+m*chunksize] for K in range(chunksize)])\n",
    "\n",
    "dataChunks.append([deepKeys[K] for K in range(chunksize*7, len(deepKeys))] )"
   ]
  },
  {
   "cell_type": "code",
   "execution_count": 44,
   "metadata": {
    "ExecuteTime": {
     "end_time": "2018-06-20T00:32:03.112051Z",
     "start_time": "2018-06-20T00:32:03.097497Z"
    }
   },
   "outputs": [
    {
     "data": {
      "text/plain": [
       "10078"
      ]
     },
     "execution_count": 44,
     "metadata": {},
     "output_type": "execute_result"
    }
   ],
   "source": [
    "#let's confirm that we split it up right\n",
    "items_per_chunk = [len(K) for K in dataChunks]\n",
    "np.sum(np.array(items_per_chunk))"
   ]
  },
  {
   "cell_type": "code",
   "execution_count": 110,
   "metadata": {
    "ExecuteTime": {
     "end_time": "2018-06-19T00:32:52.912404Z",
     "start_time": "2018-06-19T00:32:52.831258Z"
    }
   },
   "outputs": [
    {
     "data": {
      "text/plain": [
       "10078"
      ]
     },
     "execution_count": 110,
     "metadata": {},
     "output_type": "execute_result"
    }
   ],
   "source": [
    "len(deepKeys) #matches the sum of our chunks, a good sign"
   ]
  },
  {
   "cell_type": "code",
   "execution_count": 145,
   "metadata": {
    "ExecuteTime": {
     "end_time": "2018-06-19T07:17:13.647193Z",
     "start_time": "2018-06-19T06:48:18.989769Z"
    }
   },
   "outputs": [
    {
     "name": "stderr",
     "output_type": "stream",
     "text": [
      "[Parallel(n_jobs=-1)]: Done   1 tasks      | elapsed: 28.4min\n",
      "[Parallel(n_jobs=-1)]: Done   2 out of   8 | elapsed: 28.6min remaining: 85.8min\n",
      "[Parallel(n_jobs=-1)]: Done   3 out of   8 | elapsed: 28.7min remaining: 47.8min\n",
      "[Parallel(n_jobs=-1)]: Done   4 out of   8 | elapsed: 28.7min remaining: 28.7min\n",
      "[Parallel(n_jobs=-1)]: Done   5 out of   8 | elapsed: 28.7min remaining: 17.2min\n",
      "[Parallel(n_jobs=-1)]: Done   6 out of   8 | elapsed: 28.8min remaining:  9.6min\n",
      "[Parallel(n_jobs=-1)]: Done   8 out of   8 | elapsed: 28.9min remaining:    0.0s\n",
      "[Parallel(n_jobs=-1)]: Done   8 out of   8 | elapsed: 28.9min finished\n"
     ]
    },
    {
     "name": "stdout",
     "output_type": "stream",
     "text": [
      "(10078, 2)\n"
     ]
    }
   ],
   "source": [
    "dot_scores_v = 0\n",
    "dot_scores_list = 0\n",
    "\n",
    "with Parallel(n_jobs=-1, verbose=45, backend=\"multiprocessing\") as parallel:\n",
    "    #feature_vectors = Parallel(n_jobs=-1, verbose=2, backend=\"threading\")(delayed(image_to_feature)(K, encoder) for K in x_data)                                  \n",
    "    dot_scores_list = parallel(delayed(process_dots_chunk)(K, fv, deepKeys, att_vector) for K in dataChunks)                                  \n",
    "dot_scores_v = np.concatenate(dot_scores_list, axis =0)\n",
    "print(dot_scores_v.shape)"
   ]
  },
  {
   "cell_type": "code",
   "execution_count": 128,
   "metadata": {
    "ExecuteTime": {
     "end_time": "2018-06-19T05:21:00.192654Z",
     "start_time": "2018-06-19T05:20:59.905584Z"
    }
   },
   "outputs": [
    {
     "data": {
      "text/plain": [
       "(10078, 256)"
      ]
     },
     "execution_count": 128,
     "metadata": {},
     "output_type": "execute_result"
    }
   ],
   "source": [
    "fv.shape"
   ]
  },
  {
   "cell_type": "code",
   "execution_count": 146,
   "metadata": {
    "ExecuteTime": {
     "end_time": "2018-06-19T07:17:14.949115Z",
     "start_time": "2018-06-19T07:17:14.918578Z"
    }
   },
   "outputs": [],
   "source": [
    "np.save(\"dot_products_DeepFashion_HOG_Only.npy\", dot_scores_v)"
   ]
  },
  {
   "cell_type": "code",
   "execution_count": 149,
   "metadata": {
    "ExecuteTime": {
     "end_time": "2018-06-19T15:55:31.232869Z",
     "start_time": "2018-06-19T15:55:31.215855Z"
    }
   },
   "outputs": [],
   "source": [
    "Ab = np.load(\"dot_products_DeepFashion_allFeatures.npy\")\n",
    "Bb = np.load(\"dot_products_DeepFashion_HOG_Only.npy\")\n",
    "Cc = np.load(\"dot_products_DeepFashion_AE_Only.npy\")\n",
    "Dd = np.load(\"dot_products_DeepFashion_hsvOnly.npy\")"
   ]
  },
  {
   "cell_type": "code",
   "execution_count": 135,
   "metadata": {
    "ExecuteTime": {
     "end_time": "2018-06-19T06:39:29.236800Z",
     "start_time": "2018-06-19T06:39:29.134662Z"
    }
   },
   "outputs": [
    {
     "data": {
      "text/plain": [
       "array([[ True, False],\n",
       "       [ True, False],\n",
       "       [ True, False],\n",
       "       ...,\n",
       "       [False, False],\n",
       "       [ True,  True],\n",
       "       [False, False]])"
      ]
     },
     "execution_count": 135,
     "metadata": {},
     "output_type": "execute_result"
    }
   ],
   "source": [
    "Ab == Bb"
   ]
  },
  {
   "cell_type": "code",
   "execution_count": 138,
   "metadata": {
    "ExecuteTime": {
     "end_time": "2018-06-19T06:39:57.594469Z",
     "start_time": "2018-06-19T06:39:57.535705Z"
    }
   },
   "outputs": [
    {
     "data": {
      "text/plain": [
       "array([[ True, False],\n",
       "       [ True, False],\n",
       "       [ True, False],\n",
       "       ...,\n",
       "       [False, False],\n",
       "       [ True,  True],\n",
       "       [False, False]])"
      ]
     },
     "execution_count": 138,
     "metadata": {},
     "output_type": "execute_result"
    }
   ],
   "source": [
    "Ab == Dd"
   ]
  },
  {
   "cell_type": "code",
   "execution_count": 150,
   "metadata": {
    "ExecuteTime": {
     "end_time": "2018-06-19T15:55:34.988090Z",
     "start_time": "2018-06-19T15:55:34.975357Z"
    }
   },
   "outputs": [
    {
     "data": {
      "text/plain": [
       "array([6553, 3565])"
      ]
     },
     "execution_count": 150,
     "metadata": {},
     "output_type": "execute_result"
    }
   ],
   "source": [
    "np.sum(Dd == Bb, axis =0)"
   ]
  },
  {
   "cell_type": "code",
   "execution_count": 143,
   "metadata": {
    "ExecuteTime": {
     "end_time": "2018-06-19T06:41:11.291085Z",
     "start_time": "2018-06-19T06:41:11.223767Z"
    }
   },
   "outputs": [
    {
     "data": {
      "text/plain": [
       "array([7026, 3958])"
      ]
     },
     "execution_count": 143,
     "metadata": {},
     "output_type": "execute_result"
    }
   ],
   "source": [
    "np.sum(Bb == Cc, axis =0)"
   ]
  },
  {
   "cell_type": "code",
   "execution_count": 147,
   "metadata": {
    "ExecuteTime": {
     "end_time": "2018-06-19T15:54:20.215708Z",
     "start_time": "2018-06-19T15:54:20.199701Z"
    }
   },
   "outputs": [
    {
     "data": {
      "text/plain": [
       "array([6553, 3565])"
      ]
     },
     "execution_count": 147,
     "metadata": {},
     "output_type": "execute_result"
    }
   ],
   "source": [
    "np.sum( dot_scores_v == Dd, axis=0)"
   ]
  },
  {
   "cell_type": "code",
   "execution_count": 148,
   "metadata": {
    "ExecuteTime": {
     "end_time": "2018-06-19T15:55:07.943957Z",
     "start_time": "2018-06-19T15:55:07.930250Z"
    }
   },
   "outputs": [
    {
     "data": {
      "text/plain": [
       "array([7026, 3958])"
      ]
     },
     "execution_count": 148,
     "metadata": {},
     "output_type": "execute_result"
    }
   ],
   "source": [
    "np.sum(Dd == Cc, axis=0)"
   ]
  },
  {
   "cell_type": "code",
   "execution_count": 46,
   "metadata": {
    "ExecuteTime": {
     "end_time": "2018-06-20T00:39:56.031538Z",
     "start_time": "2018-06-20T00:35:15.281309Z"
    }
   },
   "outputs": [
    {
     "ename": "KeyboardInterrupt",
     "evalue": "",
     "output_type": "error",
     "traceback": [
      "\u001b[0;31m---------------------------------------------------------------------------\u001b[0m",
      "\u001b[0;31mKeyboardInterrupt\u001b[0m                         Traceback (most recent call last)",
      "\u001b[0;32m<ipython-input-46-4c26116f7b67>\u001b[0m in \u001b[0;36m<module>\u001b[0;34m()\u001b[0m\n\u001b[1;32m      6\u001b[0m \u001b[0;32mwith\u001b[0m \u001b[0mParallel\u001b[0m\u001b[0;34m(\u001b[0m\u001b[0mn_jobs\u001b[0m\u001b[0;34m=\u001b[0m\u001b[0;34m-\u001b[0m\u001b[0;36m1\u001b[0m\u001b[0;34m,\u001b[0m \u001b[0mverbose\u001b[0m\u001b[0;34m=\u001b[0m\u001b[0;36m45\u001b[0m\u001b[0;34m,\u001b[0m \u001b[0mbackend\u001b[0m\u001b[0;34m=\u001b[0m\u001b[0;34m\"multiprocessing\"\u001b[0m\u001b[0;34m)\u001b[0m \u001b[0;32mas\u001b[0m \u001b[0mparallel\u001b[0m\u001b[0;34m:\u001b[0m\u001b[0;34m\u001b[0m\u001b[0m\n\u001b[1;32m      7\u001b[0m     \u001b[0;31m#feature_vectors = Parallel(n_jobs=-1, verbose=2, backend=\"threading\")(delayed(image_to_feature)(K, encoder) for K in x_data)\u001b[0m\u001b[0;34m\u001b[0m\u001b[0;34m\u001b[0m\u001b[0m\n\u001b[0;32m----> 8\u001b[0;31m     \u001b[0moverlap_scores_list\u001b[0m \u001b[0;34m=\u001b[0m \u001b[0mparallel\u001b[0m\u001b[0;34m(\u001b[0m\u001b[0mdelayed\u001b[0m\u001b[0;34m(\u001b[0m\u001b[0mprocess_overlap_chunk\u001b[0m\u001b[0;34m)\u001b[0m\u001b[0;34m(\u001b[0m\u001b[0mK\u001b[0m\u001b[0;34m,\u001b[0m \u001b[0mfv\u001b[0m\u001b[0;34m,\u001b[0m \u001b[0mdeepKeys\u001b[0m\u001b[0;34m,\u001b[0m \u001b[0matt_vector\u001b[0m\u001b[0;34m)\u001b[0m \u001b[0;32mfor\u001b[0m \u001b[0mK\u001b[0m \u001b[0;32min\u001b[0m \u001b[0mdataChunks\u001b[0m\u001b[0;34m)\u001b[0m\u001b[0;34m\u001b[0m\u001b[0m\n\u001b[0m\u001b[1;32m      9\u001b[0m \u001b[0moverlap_scores_v\u001b[0m \u001b[0;34m=\u001b[0m \u001b[0mnp\u001b[0m\u001b[0;34m.\u001b[0m\u001b[0mconcatenate\u001b[0m\u001b[0;34m(\u001b[0m\u001b[0moverlap_scores_list\u001b[0m\u001b[0;34m,\u001b[0m \u001b[0maxis\u001b[0m \u001b[0;34m=\u001b[0m\u001b[0;36m0\u001b[0m\u001b[0;34m)\u001b[0m\u001b[0;34m\u001b[0m\u001b[0m\n",
      "\u001b[0;32m/usr/lib/python3.6/site-packages/joblib/parallel.py\u001b[0m in \u001b[0;36m__call__\u001b[0;34m(self, iterable)\u001b[0m\n\u001b[1;32m    787\u001b[0m                 \u001b[0;31m# consumption.\u001b[0m\u001b[0;34m\u001b[0m\u001b[0;34m\u001b[0m\u001b[0m\n\u001b[1;32m    788\u001b[0m                 \u001b[0mself\u001b[0m\u001b[0;34m.\u001b[0m\u001b[0m_iterating\u001b[0m \u001b[0;34m=\u001b[0m \u001b[0;32mFalse\u001b[0m\u001b[0;34m\u001b[0m\u001b[0m\n\u001b[0;32m--> 789\u001b[0;31m             \u001b[0mself\u001b[0m\u001b[0;34m.\u001b[0m\u001b[0mretrieve\u001b[0m\u001b[0;34m(\u001b[0m\u001b[0;34m)\u001b[0m\u001b[0;34m\u001b[0m\u001b[0m\n\u001b[0m\u001b[1;32m    790\u001b[0m             \u001b[0;31m# Make sure that we get a last message telling us we are done\u001b[0m\u001b[0;34m\u001b[0m\u001b[0;34m\u001b[0m\u001b[0m\n\u001b[1;32m    791\u001b[0m             \u001b[0melapsed_time\u001b[0m \u001b[0;34m=\u001b[0m \u001b[0mtime\u001b[0m\u001b[0;34m.\u001b[0m\u001b[0mtime\u001b[0m\u001b[0;34m(\u001b[0m\u001b[0;34m)\u001b[0m \u001b[0;34m-\u001b[0m \u001b[0mself\u001b[0m\u001b[0;34m.\u001b[0m\u001b[0m_start_time\u001b[0m\u001b[0;34m\u001b[0m\u001b[0m\n",
      "\u001b[0;32m/usr/lib/python3.6/site-packages/joblib/parallel.py\u001b[0m in \u001b[0;36mretrieve\u001b[0;34m(self)\u001b[0m\n\u001b[1;32m    697\u001b[0m             \u001b[0;32mtry\u001b[0m\u001b[0;34m:\u001b[0m\u001b[0;34m\u001b[0m\u001b[0m\n\u001b[1;32m    698\u001b[0m                 \u001b[0;32mif\u001b[0m \u001b[0mgetattr\u001b[0m\u001b[0;34m(\u001b[0m\u001b[0mself\u001b[0m\u001b[0;34m.\u001b[0m\u001b[0m_backend\u001b[0m\u001b[0;34m,\u001b[0m \u001b[0;34m'supports_timeout'\u001b[0m\u001b[0;34m,\u001b[0m \u001b[0;32mFalse\u001b[0m\u001b[0;34m)\u001b[0m\u001b[0;34m:\u001b[0m\u001b[0;34m\u001b[0m\u001b[0m\n\u001b[0;32m--> 699\u001b[0;31m                     \u001b[0mself\u001b[0m\u001b[0;34m.\u001b[0m\u001b[0m_output\u001b[0m\u001b[0;34m.\u001b[0m\u001b[0mextend\u001b[0m\u001b[0;34m(\u001b[0m\u001b[0mjob\u001b[0m\u001b[0;34m.\u001b[0m\u001b[0mget\u001b[0m\u001b[0;34m(\u001b[0m\u001b[0mtimeout\u001b[0m\u001b[0;34m=\u001b[0m\u001b[0mself\u001b[0m\u001b[0;34m.\u001b[0m\u001b[0mtimeout\u001b[0m\u001b[0;34m)\u001b[0m\u001b[0;34m)\u001b[0m\u001b[0;34m\u001b[0m\u001b[0m\n\u001b[0m\u001b[1;32m    700\u001b[0m                 \u001b[0;32melse\u001b[0m\u001b[0;34m:\u001b[0m\u001b[0;34m\u001b[0m\u001b[0m\n\u001b[1;32m    701\u001b[0m                     \u001b[0mself\u001b[0m\u001b[0;34m.\u001b[0m\u001b[0m_output\u001b[0m\u001b[0;34m.\u001b[0m\u001b[0mextend\u001b[0m\u001b[0;34m(\u001b[0m\u001b[0mjob\u001b[0m\u001b[0;34m.\u001b[0m\u001b[0mget\u001b[0m\u001b[0;34m(\u001b[0m\u001b[0;34m)\u001b[0m\u001b[0;34m)\u001b[0m\u001b[0;34m\u001b[0m\u001b[0m\n",
      "\u001b[0;32m/usr/lib/python3.6/multiprocessing/pool.py\u001b[0m in \u001b[0;36mget\u001b[0;34m(self, timeout)\u001b[0m\n\u001b[1;32m    636\u001b[0m \u001b[0;34m\u001b[0m\u001b[0m\n\u001b[1;32m    637\u001b[0m     \u001b[0;32mdef\u001b[0m \u001b[0mget\u001b[0m\u001b[0;34m(\u001b[0m\u001b[0mself\u001b[0m\u001b[0;34m,\u001b[0m \u001b[0mtimeout\u001b[0m\u001b[0;34m=\u001b[0m\u001b[0;32mNone\u001b[0m\u001b[0;34m)\u001b[0m\u001b[0;34m:\u001b[0m\u001b[0;34m\u001b[0m\u001b[0m\n\u001b[0;32m--> 638\u001b[0;31m         \u001b[0mself\u001b[0m\u001b[0;34m.\u001b[0m\u001b[0mwait\u001b[0m\u001b[0;34m(\u001b[0m\u001b[0mtimeout\u001b[0m\u001b[0;34m)\u001b[0m\u001b[0;34m\u001b[0m\u001b[0m\n\u001b[0m\u001b[1;32m    639\u001b[0m         \u001b[0;32mif\u001b[0m \u001b[0;32mnot\u001b[0m \u001b[0mself\u001b[0m\u001b[0;34m.\u001b[0m\u001b[0mready\u001b[0m\u001b[0;34m(\u001b[0m\u001b[0;34m)\u001b[0m\u001b[0;34m:\u001b[0m\u001b[0;34m\u001b[0m\u001b[0m\n\u001b[1;32m    640\u001b[0m             \u001b[0;32mraise\u001b[0m \u001b[0mTimeoutError\u001b[0m\u001b[0;34m\u001b[0m\u001b[0m\n",
      "\u001b[0;32m/usr/lib/python3.6/multiprocessing/pool.py\u001b[0m in \u001b[0;36mwait\u001b[0;34m(self, timeout)\u001b[0m\n\u001b[1;32m    633\u001b[0m \u001b[0;34m\u001b[0m\u001b[0m\n\u001b[1;32m    634\u001b[0m     \u001b[0;32mdef\u001b[0m \u001b[0mwait\u001b[0m\u001b[0;34m(\u001b[0m\u001b[0mself\u001b[0m\u001b[0;34m,\u001b[0m \u001b[0mtimeout\u001b[0m\u001b[0;34m=\u001b[0m\u001b[0;32mNone\u001b[0m\u001b[0;34m)\u001b[0m\u001b[0;34m:\u001b[0m\u001b[0;34m\u001b[0m\u001b[0m\n\u001b[0;32m--> 635\u001b[0;31m         \u001b[0mself\u001b[0m\u001b[0;34m.\u001b[0m\u001b[0m_event\u001b[0m\u001b[0;34m.\u001b[0m\u001b[0mwait\u001b[0m\u001b[0;34m(\u001b[0m\u001b[0mtimeout\u001b[0m\u001b[0;34m)\u001b[0m\u001b[0;34m\u001b[0m\u001b[0m\n\u001b[0m\u001b[1;32m    636\u001b[0m \u001b[0;34m\u001b[0m\u001b[0m\n\u001b[1;32m    637\u001b[0m     \u001b[0;32mdef\u001b[0m \u001b[0mget\u001b[0m\u001b[0;34m(\u001b[0m\u001b[0mself\u001b[0m\u001b[0;34m,\u001b[0m \u001b[0mtimeout\u001b[0m\u001b[0;34m=\u001b[0m\u001b[0;32mNone\u001b[0m\u001b[0;34m)\u001b[0m\u001b[0;34m:\u001b[0m\u001b[0;34m\u001b[0m\u001b[0m\n",
      "\u001b[0;32m/usr/lib/python3.6/threading.py\u001b[0m in \u001b[0;36mwait\u001b[0;34m(self, timeout)\u001b[0m\n\u001b[1;32m    549\u001b[0m             \u001b[0msignaled\u001b[0m \u001b[0;34m=\u001b[0m \u001b[0mself\u001b[0m\u001b[0;34m.\u001b[0m\u001b[0m_flag\u001b[0m\u001b[0;34m\u001b[0m\u001b[0m\n\u001b[1;32m    550\u001b[0m             \u001b[0;32mif\u001b[0m \u001b[0;32mnot\u001b[0m \u001b[0msignaled\u001b[0m\u001b[0;34m:\u001b[0m\u001b[0;34m\u001b[0m\u001b[0m\n\u001b[0;32m--> 551\u001b[0;31m                 \u001b[0msignaled\u001b[0m \u001b[0;34m=\u001b[0m \u001b[0mself\u001b[0m\u001b[0;34m.\u001b[0m\u001b[0m_cond\u001b[0m\u001b[0;34m.\u001b[0m\u001b[0mwait\u001b[0m\u001b[0;34m(\u001b[0m\u001b[0mtimeout\u001b[0m\u001b[0;34m)\u001b[0m\u001b[0;34m\u001b[0m\u001b[0m\n\u001b[0m\u001b[1;32m    552\u001b[0m             \u001b[0;32mreturn\u001b[0m \u001b[0msignaled\u001b[0m\u001b[0;34m\u001b[0m\u001b[0m\n\u001b[1;32m    553\u001b[0m \u001b[0;34m\u001b[0m\u001b[0m\n",
      "\u001b[0;32m/usr/lib/python3.6/threading.py\u001b[0m in \u001b[0;36mwait\u001b[0;34m(self, timeout)\u001b[0m\n\u001b[1;32m    293\u001b[0m         \u001b[0;32mtry\u001b[0m\u001b[0;34m:\u001b[0m    \u001b[0;31m# restore state no matter what (e.g., KeyboardInterrupt)\u001b[0m\u001b[0;34m\u001b[0m\u001b[0m\n\u001b[1;32m    294\u001b[0m             \u001b[0;32mif\u001b[0m \u001b[0mtimeout\u001b[0m \u001b[0;32mis\u001b[0m \u001b[0;32mNone\u001b[0m\u001b[0;34m:\u001b[0m\u001b[0;34m\u001b[0m\u001b[0m\n\u001b[0;32m--> 295\u001b[0;31m                 \u001b[0mwaiter\u001b[0m\u001b[0;34m.\u001b[0m\u001b[0macquire\u001b[0m\u001b[0;34m(\u001b[0m\u001b[0;34m)\u001b[0m\u001b[0;34m\u001b[0m\u001b[0m\n\u001b[0m\u001b[1;32m    296\u001b[0m                 \u001b[0mgotit\u001b[0m \u001b[0;34m=\u001b[0m \u001b[0;32mTrue\u001b[0m\u001b[0;34m\u001b[0m\u001b[0m\n\u001b[1;32m    297\u001b[0m             \u001b[0;32melse\u001b[0m\u001b[0;34m:\u001b[0m\u001b[0;34m\u001b[0m\u001b[0m\n",
      "\u001b[0;31mKeyboardInterrupt\u001b[0m: "
     ]
    }
   ],
   "source": [
    "#this is the overlap of the top5 based on full features or just on attribute vector\n",
    "\n",
    "overlap_scores_v = 0\n",
    "overlap_scores_list = 0\n",
    "\n",
    "with Parallel(n_jobs=-1, verbose=45, backend=\"multiprocessing\") as parallel:\n",
    "    #feature_vectors = Parallel(n_jobs=-1, verbose=2, backend=\"threading\")(delayed(image_to_feature)(K, encoder) for K in x_data)                                  \n",
    "    overlap_scores_list = parallel(delayed(process_overlap_chunk)(K, fv, deepKeys, att_vector) for K in dataChunks)                                  \n",
    "overlap_scores_v = np.concatenate(overlap_scores_list, axis =0)"
   ]
  },
  {
   "cell_type": "code",
   "execution_count": null,
   "metadata": {
    "ExecuteTime": {
     "end_time": "2018-06-20T00:39:56.034964Z",
     "start_time": "2018-06-20T00:35:17.696Z"
    }
   },
   "outputs": [],
   "source": [
    "print(overlap_scores_v.shape)\n",
    "np.save(\"top5_overlap.npy\", overlap_scores_v)"
   ]
  },
  {
   "cell_type": "markdown",
   "metadata": {},
   "source": [
    "# Plots\n",
    "\n",
    "Now that our dot products have been computed, we can start to make plots"
   ]
  },
  {
   "cell_type": "code",
   "execution_count": 9,
   "metadata": {
    "ExecuteTime": {
     "end_time": "2018-06-19T16:31:22.536563Z",
     "start_time": "2018-06-19T16:31:22.490880Z"
    }
   },
   "outputs": [],
   "source": [
    "import seaborn as sns"
   ]
  },
  {
   "cell_type": "code",
   "execution_count": 5,
   "metadata": {
    "ExecuteTime": {
     "end_time": "2018-06-19T16:28:34.197489Z",
     "start_time": "2018-06-19T16:28:34.087572Z"
    }
   },
   "outputs": [],
   "source": [
    "relative_frequency = att_vector.sum(axis=0)/att_vector.shape[0]"
   ]
  },
  {
   "cell_type": "code",
   "execution_count": 14,
   "metadata": {
    "ExecuteTime": {
     "end_time": "2018-06-19T22:54:48.186433Z",
     "start_time": "2018-06-19T22:54:48.145394Z"
    }
   },
   "outputs": [
    {
     "data": {
      "text/plain": [
       "(10078, 786)"
      ]
     },
     "execution_count": 14,
     "metadata": {},
     "output_type": "execute_result"
    }
   ],
   "source": [
    "fv = np.load('features/current_feature_vector.npy')\n",
    "#fv = np.load('features/current_feature_vector_hsv.npy')\n",
    "#fv = np.load('features/current_feature_vector_hog.npy')\n",
    "#fv = np.load('features/current_feature_vector_ae.npy')\n",
    "fv.shape"
   ]
  },
  {
   "cell_type": "code",
   "execution_count": 2,
   "metadata": {
    "ExecuteTime": {
     "end_time": "2018-06-19T16:27:38.858986Z",
     "start_time": "2018-06-19T16:27:38.846249Z"
    }
   },
   "outputs": [],
   "source": [
    "dvAll = np.load(\"models/DeepFashionGeneric_dot_products/dot_products_DeepFashion_allFeatures.npy\")\n",
    "dvHog = np.load(\"models/DeepFashionGeneric_dot_products/dot_products_DeepFashion_HOG_Only.npy\")\n",
    "dvAE = np.load(\"models/DeepFashionGeneric_dot_products/dot_products_DeepFashion_AE_Only.npy\")\n",
    "dvHSV = np.load(\"models/DeepFashionGeneric_dot_products/dot_products_DeepFashion_hsvOnly.npy\")"
   ]
  },
  {
   "cell_type": "code",
   "execution_count": 7,
   "metadata": {
    "ExecuteTime": {
     "end_time": "2018-06-19T16:29:05.320808Z",
     "start_time": "2018-06-19T16:29:05.308971Z"
    }
   },
   "outputs": [
    {
     "name": "stdout",
     "output_type": "stream",
     "text": [
      "0.1652755067331335\n"
     ]
    }
   ],
   "source": [
    "rfDot = relative_frequency.dot(relative_frequency)\n",
    "print(rfDot)"
   ]
  },
  {
   "cell_type": "code",
   "execution_count": 8,
   "metadata": {
    "ExecuteTime": {
     "end_time": "2018-06-19T16:29:26.989201Z",
     "start_time": "2018-06-19T16:29:26.974242Z"
    }
   },
   "outputs": [
    {
     "data": {
      "text/plain": [
       "array([0.6312761, 2.1312761], dtype=float32)"
      ]
     },
     "execution_count": 8,
     "metadata": {},
     "output_type": "execute_result"
    }
   ],
   "source": [
    "np.mean(dvAll, axis=0)"
   ]
  },
  {
   "cell_type": "code",
   "execution_count": 10,
   "metadata": {
    "ExecuteTime": {
     "end_time": "2018-06-19T16:32:27.871927Z",
     "start_time": "2018-06-19T16:32:27.857804Z"
    }
   },
   "outputs": [
    {
     "data": {
      "text/plain": [
       "array([0.589105 , 2.0094264], dtype=float32)"
      ]
     },
     "execution_count": 10,
     "metadata": {},
     "output_type": "execute_result"
    }
   ],
   "source": [
    "np.mean(dvHog, axis=0)"
   ]
  },
  {
   "cell_type": "code",
   "execution_count": 11,
   "metadata": {
    "ExecuteTime": {
     "end_time": "2018-06-19T16:32:38.096629Z",
     "start_time": "2018-06-19T16:32:38.081122Z"
    }
   },
   "outputs": [
    {
     "data": {
      "text/plain": [
       "array([0.42776343, 1.4086128 ], dtype=float32)"
      ]
     },
     "execution_count": 11,
     "metadata": {},
     "output_type": "execute_result"
    }
   ],
   "source": [
    "np.mean(dvAE, axis=0)"
   ]
  },
  {
   "cell_type": "code",
   "execution_count": 12,
   "metadata": {
    "ExecuteTime": {
     "end_time": "2018-06-19T16:32:50.007403Z",
     "start_time": "2018-06-19T16:32:49.990860Z"
    }
   },
   "outputs": [
    {
     "data": {
      "text/plain": [
       "array([0.44185355, 1.522822  ], dtype=float32)"
      ]
     },
     "execution_count": 12,
     "metadata": {},
     "output_type": "execute_result"
    }
   ],
   "source": [
    "np.mean(dvHSV, axis=0)"
   ]
  },
  {
   "cell_type": "code",
   "execution_count": 18,
   "metadata": {
    "ExecuteTime": {
     "end_time": "2018-06-19T22:58:51.877913Z",
     "start_time": "2018-06-19T22:58:51.784887Z"
    }
   },
   "outputs": [
    {
     "name": "stdout",
     "output_type": "stream",
     "text": [
      "3.549513792419131\n"
     ]
    }
   ],
   "source": [
    "dotsum = np.sum(att_vector*att_vector, axis=1)\n",
    "perfect = np.mean(dotsum, axis=0)\n",
    "print(perfect)"
   ]
  },
  {
   "cell_type": "markdown",
   "metadata": {},
   "source": [
    "# top 5 match \n",
    "\n",
    "How many of the top five are the same using just attribute vectors?"
   ]
  }
 ],
 "metadata": {
  "kernelspec": {
   "display_name": "Python 3",
   "language": "python",
   "name": "python3"
  },
  "language_info": {
   "codemirror_mode": {
    "name": "ipython",
    "version": 3
   },
   "file_extension": ".py",
   "mimetype": "text/x-python",
   "name": "python",
   "nbconvert_exporter": "python",
   "pygments_lexer": "ipython3",
   "version": "3.6.5"
  },
  "toc": {
   "nav_menu": {},
   "number_sections": true,
   "sideBar": true,
   "skip_h1_title": false,
   "title_cell": "Table of Contents",
   "title_sidebar": "Contents",
   "toc_cell": false,
   "toc_position": {},
   "toc_section_display": true,
   "toc_window_display": false
  },
  "varInspector": {
   "cols": {
    "lenName": 16,
    "lenType": 16,
    "lenVar": 40
   },
   "kernels_config": {
    "python": {
     "delete_cmd_postfix": "",
     "delete_cmd_prefix": "del ",
     "library": "var_list.py",
     "varRefreshCmd": "print(var_dic_list())"
    },
    "r": {
     "delete_cmd_postfix": ") ",
     "delete_cmd_prefix": "rm(",
     "library": "var_list.r",
     "varRefreshCmd": "cat(var_dic_list()) "
    }
   },
   "types_to_exclude": [
    "module",
    "function",
    "builtin_function_or_method",
    "instance",
    "_Feature"
   ],
   "window_display": false
  }
 },
 "nbformat": 4,
 "nbformat_minor": 2
}
