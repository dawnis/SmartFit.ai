{
 "cells": [
  {
   "cell_type": "markdown",
   "metadata": {},
   "source": [
    "# Similarity for a Single Clothing Class\n",
    "\n",
    "Goal: Pull clothes from a single class (e.g. Blouse), and return similar ones."
   ]
  },
  {
   "cell_type": "code",
   "execution_count": 3,
   "metadata": {
    "ExecuteTime": {
     "end_time": "2018-06-22T05:42:03.521749Z",
     "start_time": "2018-06-22T05:42:03.201069Z"
    }
   },
   "outputs": [
    {
     "name": "stdout",
     "output_type": "stream",
     "text": [
      "The autoreload extension is already loaded. To reload it, use:\n",
      "  %reload_ext autoreload\n"
     ]
    }
   ],
   "source": [
    "import numpy as np\n",
    "import pandas as pd\n",
    "import pickle\n",
    "import os\n",
    "\n",
    "os.chdir(\"/home/dawnis/Dropbox/Insight/SmartMirror_Demo/\")\n",
    "%load_ext autoreload\n",
    "%autoreload 2\n",
    "\n",
    "from src.fashion_tools import DeepFashion, cloth_category, generate_features, image_to_feature, DeepFashion_Attributes"
   ]
  },
  {
   "cell_type": "code",
   "execution_count": 2,
   "metadata": {
    "ExecuteTime": {
     "end_time": "2018-06-21T13:36:28.380119Z",
     "start_time": "2018-06-21T13:36:27.168772Z"
    }
   },
   "outputs": [
    {
     "name": "stderr",
     "output_type": "stream",
     "text": [
      "/usr/lib/python3.6/site-packages/h5py/__init__.py:36: FutureWarning: Conversion of the second argument of issubdtype from `float` to `np.floating` is deprecated. In future, it will be treated as `np.float64 == np.dtype(float).type`.\n",
      "  from ._conv import register_converters as _register_converters\n",
      "Using TensorFlow backend.\n"
     ]
    },
    {
     "data": {
      "text/plain": [
       "[]"
      ]
     },
     "execution_count": 2,
     "metadata": {},
     "output_type": "execute_result"
    }
   ],
   "source": [
    "import os\n",
    "os.environ[\"CUDA_VISIBLE_DEVICES\"]=\"\"\n",
    "from keras import backend as K\n",
    "K.tensorflow_backend._get_available_gpus()"
   ]
  },
  {
   "cell_type": "code",
   "execution_count": 3,
   "metadata": {
    "ExecuteTime": {
     "end_time": "2018-06-21T13:36:31.045812Z",
     "start_time": "2018-06-21T13:36:31.027691Z"
    }
   },
   "outputs": [],
   "source": [
    "#cloth_category(\"labels/list_category_cloth.txt\")"
   ]
  },
  {
   "cell_type": "code",
   "execution_count": 6,
   "metadata": {
    "ExecuteTime": {
     "end_time": "2018-06-22T05:42:31.061271Z",
     "start_time": "2018-06-22T05:42:29.570251Z"
    }
   },
   "outputs": [],
   "source": [
    "deepDict = DeepFashion(\"Top\")"
   ]
  },
  {
   "cell_type": "code",
   "execution_count": 7,
   "metadata": {
    "ExecuteTime": {
     "end_time": "2018-06-22T05:42:31.674066Z",
     "start_time": "2018-06-22T05:42:31.083865Z"
    }
   },
   "outputs": [
    {
     "data": {
      "text/html": [
       "<div>\n",
       "<style scoped>\n",
       "    .dataframe tbody tr th:only-of-type {\n",
       "        vertical-align: middle;\n",
       "    }\n",
       "\n",
       "    .dataframe tbody tr th {\n",
       "        vertical-align: top;\n",
       "    }\n",
       "\n",
       "    .dataframe thead th {\n",
       "        text-align: right;\n",
       "    }\n",
       "</style>\n",
       "<table border=\"1\" class=\"dataframe\">\n",
       "  <thead>\n",
       "    <tr style=\"text-align: right;\">\n",
       "      <th></th>\n",
       "      <th>a-line</th>\n",
       "      <th>abstract</th>\n",
       "      <th>abstract chevron</th>\n",
       "      <th>abstract chevron print</th>\n",
       "      <th>abstract diamond</th>\n",
       "      <th>abstract floral</th>\n",
       "      <th>abstract floral print</th>\n",
       "      <th>abstract geo</th>\n",
       "      <th>abstract geo print</th>\n",
       "      <th>abstract paisley</th>\n",
       "      <th>...</th>\n",
       "      <th>zeppelin</th>\n",
       "      <th>zig</th>\n",
       "      <th>zigzag</th>\n",
       "      <th>zip</th>\n",
       "      <th>zip-front</th>\n",
       "      <th>zip-pocket</th>\n",
       "      <th>zip-up</th>\n",
       "      <th>zipped</th>\n",
       "      <th>zipper</th>\n",
       "      <th>zippered</th>\n",
       "    </tr>\n",
       "  </thead>\n",
       "  <tbody>\n",
       "    <tr>\n",
       "      <th>img/Sheer_Pleated-Front_Blouse/img_00000001.jpg</th>\n",
       "      <td>0</td>\n",
       "      <td>0</td>\n",
       "      <td>0</td>\n",
       "      <td>0</td>\n",
       "      <td>0</td>\n",
       "      <td>0</td>\n",
       "      <td>0</td>\n",
       "      <td>0</td>\n",
       "      <td>0</td>\n",
       "      <td>0</td>\n",
       "      <td>...</td>\n",
       "      <td>0</td>\n",
       "      <td>0</td>\n",
       "      <td>0</td>\n",
       "      <td>0</td>\n",
       "      <td>0</td>\n",
       "      <td>0</td>\n",
       "      <td>0</td>\n",
       "      <td>0</td>\n",
       "      <td>0</td>\n",
       "      <td>0</td>\n",
       "    </tr>\n",
       "    <tr>\n",
       "      <th>img/Sheer_Pleated-Front_Blouse/img_00000002.jpg</th>\n",
       "      <td>0</td>\n",
       "      <td>0</td>\n",
       "      <td>0</td>\n",
       "      <td>0</td>\n",
       "      <td>0</td>\n",
       "      <td>0</td>\n",
       "      <td>0</td>\n",
       "      <td>0</td>\n",
       "      <td>0</td>\n",
       "      <td>0</td>\n",
       "      <td>...</td>\n",
       "      <td>0</td>\n",
       "      <td>0</td>\n",
       "      <td>0</td>\n",
       "      <td>0</td>\n",
       "      <td>0</td>\n",
       "      <td>0</td>\n",
       "      <td>0</td>\n",
       "      <td>0</td>\n",
       "      <td>0</td>\n",
       "      <td>0</td>\n",
       "    </tr>\n",
       "    <tr>\n",
       "      <th>img/Sheer_Pleated-Front_Blouse/img_00000003.jpg</th>\n",
       "      <td>0</td>\n",
       "      <td>0</td>\n",
       "      <td>0</td>\n",
       "      <td>0</td>\n",
       "      <td>0</td>\n",
       "      <td>0</td>\n",
       "      <td>0</td>\n",
       "      <td>0</td>\n",
       "      <td>0</td>\n",
       "      <td>0</td>\n",
       "      <td>...</td>\n",
       "      <td>0</td>\n",
       "      <td>0</td>\n",
       "      <td>0</td>\n",
       "      <td>0</td>\n",
       "      <td>0</td>\n",
       "      <td>0</td>\n",
       "      <td>0</td>\n",
       "      <td>0</td>\n",
       "      <td>0</td>\n",
       "      <td>0</td>\n",
       "    </tr>\n",
       "    <tr>\n",
       "      <th>img/Sheer_Pleated-Front_Blouse/img_00000004.jpg</th>\n",
       "      <td>0</td>\n",
       "      <td>0</td>\n",
       "      <td>0</td>\n",
       "      <td>0</td>\n",
       "      <td>0</td>\n",
       "      <td>0</td>\n",
       "      <td>0</td>\n",
       "      <td>0</td>\n",
       "      <td>0</td>\n",
       "      <td>0</td>\n",
       "      <td>...</td>\n",
       "      <td>0</td>\n",
       "      <td>0</td>\n",
       "      <td>0</td>\n",
       "      <td>0</td>\n",
       "      <td>0</td>\n",
       "      <td>0</td>\n",
       "      <td>0</td>\n",
       "      <td>0</td>\n",
       "      <td>0</td>\n",
       "      <td>0</td>\n",
       "    </tr>\n",
       "    <tr>\n",
       "      <th>img/Sheer_Pleated-Front_Blouse/img_00000005.jpg</th>\n",
       "      <td>0</td>\n",
       "      <td>0</td>\n",
       "      <td>0</td>\n",
       "      <td>0</td>\n",
       "      <td>0</td>\n",
       "      <td>0</td>\n",
       "      <td>0</td>\n",
       "      <td>0</td>\n",
       "      <td>0</td>\n",
       "      <td>0</td>\n",
       "      <td>...</td>\n",
       "      <td>0</td>\n",
       "      <td>0</td>\n",
       "      <td>0</td>\n",
       "      <td>0</td>\n",
       "      <td>0</td>\n",
       "      <td>0</td>\n",
       "      <td>0</td>\n",
       "      <td>0</td>\n",
       "      <td>0</td>\n",
       "      <td>0</td>\n",
       "    </tr>\n",
       "  </tbody>\n",
       "</table>\n",
       "<p>5 rows × 1000 columns</p>\n",
       "</div>"
      ],
      "text/plain": [
       "                                                 a-line  abstract  \\\n",
       "img/Sheer_Pleated-Front_Blouse/img_00000001.jpg       0         0   \n",
       "img/Sheer_Pleated-Front_Blouse/img_00000002.jpg       0         0   \n",
       "img/Sheer_Pleated-Front_Blouse/img_00000003.jpg       0         0   \n",
       "img/Sheer_Pleated-Front_Blouse/img_00000004.jpg       0         0   \n",
       "img/Sheer_Pleated-Front_Blouse/img_00000005.jpg       0         0   \n",
       "\n",
       "                                                 abstract chevron  \\\n",
       "img/Sheer_Pleated-Front_Blouse/img_00000001.jpg                 0   \n",
       "img/Sheer_Pleated-Front_Blouse/img_00000002.jpg                 0   \n",
       "img/Sheer_Pleated-Front_Blouse/img_00000003.jpg                 0   \n",
       "img/Sheer_Pleated-Front_Blouse/img_00000004.jpg                 0   \n",
       "img/Sheer_Pleated-Front_Blouse/img_00000005.jpg                 0   \n",
       "\n",
       "                                                 abstract chevron print  \\\n",
       "img/Sheer_Pleated-Front_Blouse/img_00000001.jpg                       0   \n",
       "img/Sheer_Pleated-Front_Blouse/img_00000002.jpg                       0   \n",
       "img/Sheer_Pleated-Front_Blouse/img_00000003.jpg                       0   \n",
       "img/Sheer_Pleated-Front_Blouse/img_00000004.jpg                       0   \n",
       "img/Sheer_Pleated-Front_Blouse/img_00000005.jpg                       0   \n",
       "\n",
       "                                                 abstract diamond  \\\n",
       "img/Sheer_Pleated-Front_Blouse/img_00000001.jpg                 0   \n",
       "img/Sheer_Pleated-Front_Blouse/img_00000002.jpg                 0   \n",
       "img/Sheer_Pleated-Front_Blouse/img_00000003.jpg                 0   \n",
       "img/Sheer_Pleated-Front_Blouse/img_00000004.jpg                 0   \n",
       "img/Sheer_Pleated-Front_Blouse/img_00000005.jpg                 0   \n",
       "\n",
       "                                                 abstract floral  \\\n",
       "img/Sheer_Pleated-Front_Blouse/img_00000001.jpg                0   \n",
       "img/Sheer_Pleated-Front_Blouse/img_00000002.jpg                0   \n",
       "img/Sheer_Pleated-Front_Blouse/img_00000003.jpg                0   \n",
       "img/Sheer_Pleated-Front_Blouse/img_00000004.jpg                0   \n",
       "img/Sheer_Pleated-Front_Blouse/img_00000005.jpg                0   \n",
       "\n",
       "                                                 abstract floral print  \\\n",
       "img/Sheer_Pleated-Front_Blouse/img_00000001.jpg                      0   \n",
       "img/Sheer_Pleated-Front_Blouse/img_00000002.jpg                      0   \n",
       "img/Sheer_Pleated-Front_Blouse/img_00000003.jpg                      0   \n",
       "img/Sheer_Pleated-Front_Blouse/img_00000004.jpg                      0   \n",
       "img/Sheer_Pleated-Front_Blouse/img_00000005.jpg                      0   \n",
       "\n",
       "                                                 abstract geo  \\\n",
       "img/Sheer_Pleated-Front_Blouse/img_00000001.jpg             0   \n",
       "img/Sheer_Pleated-Front_Blouse/img_00000002.jpg             0   \n",
       "img/Sheer_Pleated-Front_Blouse/img_00000003.jpg             0   \n",
       "img/Sheer_Pleated-Front_Blouse/img_00000004.jpg             0   \n",
       "img/Sheer_Pleated-Front_Blouse/img_00000005.jpg             0   \n",
       "\n",
       "                                                 abstract geo print  \\\n",
       "img/Sheer_Pleated-Front_Blouse/img_00000001.jpg                   0   \n",
       "img/Sheer_Pleated-Front_Blouse/img_00000002.jpg                   0   \n",
       "img/Sheer_Pleated-Front_Blouse/img_00000003.jpg                   0   \n",
       "img/Sheer_Pleated-Front_Blouse/img_00000004.jpg                   0   \n",
       "img/Sheer_Pleated-Front_Blouse/img_00000005.jpg                   0   \n",
       "\n",
       "                                                 abstract paisley    ...     \\\n",
       "img/Sheer_Pleated-Front_Blouse/img_00000001.jpg                 0    ...      \n",
       "img/Sheer_Pleated-Front_Blouse/img_00000002.jpg                 0    ...      \n",
       "img/Sheer_Pleated-Front_Blouse/img_00000003.jpg                 0    ...      \n",
       "img/Sheer_Pleated-Front_Blouse/img_00000004.jpg                 0    ...      \n",
       "img/Sheer_Pleated-Front_Blouse/img_00000005.jpg                 0    ...      \n",
       "\n",
       "                                                 zeppelin  zig  zigzag  zip  \\\n",
       "img/Sheer_Pleated-Front_Blouse/img_00000001.jpg         0    0       0    0   \n",
       "img/Sheer_Pleated-Front_Blouse/img_00000002.jpg         0    0       0    0   \n",
       "img/Sheer_Pleated-Front_Blouse/img_00000003.jpg         0    0       0    0   \n",
       "img/Sheer_Pleated-Front_Blouse/img_00000004.jpg         0    0       0    0   \n",
       "img/Sheer_Pleated-Front_Blouse/img_00000005.jpg         0    0       0    0   \n",
       "\n",
       "                                                 zip-front  zip-pocket  \\\n",
       "img/Sheer_Pleated-Front_Blouse/img_00000001.jpg          0           0   \n",
       "img/Sheer_Pleated-Front_Blouse/img_00000002.jpg          0           0   \n",
       "img/Sheer_Pleated-Front_Blouse/img_00000003.jpg          0           0   \n",
       "img/Sheer_Pleated-Front_Blouse/img_00000004.jpg          0           0   \n",
       "img/Sheer_Pleated-Front_Blouse/img_00000005.jpg          0           0   \n",
       "\n",
       "                                                 zip-up  zipped  zipper  \\\n",
       "img/Sheer_Pleated-Front_Blouse/img_00000001.jpg       0       0       0   \n",
       "img/Sheer_Pleated-Front_Blouse/img_00000002.jpg       0       0       0   \n",
       "img/Sheer_Pleated-Front_Blouse/img_00000003.jpg       0       0       0   \n",
       "img/Sheer_Pleated-Front_Blouse/img_00000004.jpg       0       0       0   \n",
       "img/Sheer_Pleated-Front_Blouse/img_00000005.jpg       0       0       0   \n",
       "\n",
       "                                                 zippered  \n",
       "img/Sheer_Pleated-Front_Blouse/img_00000001.jpg         0  \n",
       "img/Sheer_Pleated-Front_Blouse/img_00000002.jpg         0  \n",
       "img/Sheer_Pleated-Front_Blouse/img_00000003.jpg         0  \n",
       "img/Sheer_Pleated-Front_Blouse/img_00000004.jpg         0  \n",
       "img/Sheer_Pleated-Front_Blouse/img_00000005.jpg         0  \n",
       "\n",
       "[5 rows x 1000 columns]"
      ]
     },
     "execution_count": 7,
     "metadata": {},
     "output_type": "execute_result"
    }
   ],
   "source": [
    "with open('models/img_attr_sparse.pkl', 'rb') as S:\n",
    "    img_attr_values = pickle.load(S)\n",
    "\n",
    "with open ('models/img_attr_rows.pkl', 'rb') as S:\n",
    "    img_attr_rows = pickle.load(S)\n",
    "    \n",
    "with open('models/img_attr_columns.pkl', 'rb') as S:\n",
    "    img_attr_columns = pickle.load(S)\n",
    "\n",
    "img_attr_values = img_attr_values.toarray()\n",
    "img_attr_df = pd.DataFrame(img_attr_values, columns = img_attr_columns, index=img_attr_rows)\n",
    "\n",
    "img_attr_df.head(5)"
   ]
  },
  {
   "cell_type": "code",
   "execution_count": 9,
   "metadata": {
    "ExecuteTime": {
     "end_time": "2018-06-22T05:44:11.843895Z",
     "start_time": "2018-06-22T05:42:48.980145Z"
    }
   },
   "outputs": [],
   "source": [
    "att_vector = DeepFashion_Attributes(\"Top\", img_attr_df)"
   ]
  },
  {
   "cell_type": "code",
   "execution_count": 14,
   "metadata": {
    "ExecuteTime": {
     "end_time": "2018-06-21T00:30:15.364725Z",
     "start_time": "2018-06-21T00:30:15.346604Z"
    }
   },
   "outputs": [],
   "source": [
    "from joblib import Parallel, delayed\n",
    "deepKeys = [key for key in deepDict.keys()]\n",
    "chunksize = 1260\n",
    "dataChunks=[]\n",
    "for m in range(7):\n",
    "    dataChunks.append( [deepKeys[K+m*chunksize] for K in range(chunksize)])\n",
    "\n",
    "dataChunks.append([deepKeys[K] for K in range(chunksize*7, len(deepKeys))] )"
   ]
  },
  {
   "cell_type": "code",
   "execution_count": 7,
   "metadata": {
    "ExecuteTime": {
     "end_time": "2018-06-21T13:36:48.996810Z",
     "start_time": "2018-06-21T13:36:48.586843Z"
    }
   },
   "outputs": [],
   "source": [
    "#compute feautres for for all items in the clothing category\n",
    "from keras.models import load_model\n",
    "encoder = load_model(\"u_encoder_model_current.h5\")\n",
    "encoder.load_weights(\"u_encoder_model_weights_current.h5\")\n",
    "#decoder = load_model(\"models/decoder_model_current.h5\")\n",
    "#decoder.load_weights(\"models/decoder_model_weights_current.h5\")"
   ]
  },
  {
   "cell_type": "code",
   "execution_count": 8,
   "metadata": {
    "ExecuteTime": {
     "end_time": "2018-06-21T13:36:49.895124Z",
     "start_time": "2018-06-21T13:36:49.879884Z"
    }
   },
   "outputs": [],
   "source": [
    "fullpath_to_data = \"/home/dawnis/Data/SmartMirror/DeepFashion_Data\""
   ]
  },
  {
   "cell_type": "code",
   "execution_count": 19,
   "metadata": {
    "ExecuteTime": {
     "end_time": "2018-06-21T00:34:32.839646Z",
     "start_time": "2018-06-21T00:34:32.823634Z"
    }
   },
   "outputs": [],
   "source": [
    "#image_to_feature(\"/\".join([fullpath_to_data, \"img/Boxy_Open_Mesh_Top/img_00000050.jpg\"]), deepDict[\"img/Boxy_Open_Mesh_Top/img_00000050.jpg\"], encoder)"
   ]
  },
  {
   "cell_type": "code",
   "execution_count": 29,
   "metadata": {
    "ExecuteTime": {
     "end_time": "2018-06-21T18:30:26.343873Z",
     "start_time": "2018-06-21T18:25:37.818510Z"
    }
   },
   "outputs": [],
   "source": [
    "#clothing_feature_vectors = generate_features(deepDict, fullpath_to_data, encoder)\n",
    "clothing_feature_vectors = [image_to_feature(\"/\".join([fullpath_to_data, imagepath]), boundingBox, encoder, \"All\") for imagepath, boundingBox in deepDict.items()]\n",
    "fv = np.array(clothing_feature_vectors)                  \n",
    "np.save(\"u_current_feature_vector.npy\", fv)\n",
    "\n",
    "#clothing_feature_vectors = generate_features(deepDict, fullpath_to_data, encoder)\n",
    "clothing_feature_vectors = [image_to_feature(\"/\".join([fullpath_to_data, imagepath]), boundingBox, encoder, \"hsv\") for imagepath, boundingBox in deepDict.items()]\n",
    "fv = np.array(clothing_feature_vectors)                  \n",
    "np.save(\"u_hsv.npy\", fv)\n",
    "\n",
    "#clothing_feature_vectors = generate_features(deepDict, fullpath_to_data, encoder)\n",
    "clothing_feature_vectors = [image_to_feature(\"/\".join([fullpath_to_data, imagepath]), boundingBox, encoder, \"hog\") for imagepath, boundingBox in deepDict.items()]\n",
    "fv = np.array(clothing_feature_vectors)                  \n",
    "np.save(\"u_hog.npy\", fv)\n",
    "\n",
    "#clothing_feature_vectors = generate_features(deepDict, fullpath_to_data, encoder)\n",
    "clothing_feature_vectors = [image_to_feature(\"/\".join([fullpath_to_data, imagepath]), boundingBox, encoder, \"encoder\") for imagepath, boundingBox in deepDict.items()]\n",
    "fv = np.array(clothing_feature_vectors)                  \n",
    "np.save(\"u_encoder.npy\", fv)"
   ]
  },
  {
   "cell_type": "code",
   "execution_count": 4,
   "metadata": {
    "ExecuteTime": {
     "end_time": "2018-06-22T05:42:17.076394Z",
     "start_time": "2018-06-22T05:42:17.017835Z"
    }
   },
   "outputs": [
    {
     "data": {
      "text/plain": [
       "(10078, 786)"
      ]
     },
     "execution_count": 4,
     "metadata": {},
     "output_type": "execute_result"
    }
   ],
   "source": [
    "fv = np.load('features/u_current_feature_vector.npy')\n",
    "#fv = np.load('u_hsv.npy')\n",
    "#fv = np.load('u_hog.npy')\n",
    "#fv = np.load('u_encoder.npy')\n",
    "fv.shape"
   ]
  },
  {
   "cell_type": "code",
   "execution_count": 10,
   "metadata": {
    "ExecuteTime": {
     "end_time": "2018-06-22T05:44:12.382115Z",
     "start_time": "2018-06-22T05:44:12.365468Z"
    }
   },
   "outputs": [],
   "source": [
    "from src.fashion_tools import fashion_similarity\n",
    "\n",
    "deepKeys = [keyname for keyname in att_vector.index]\n",
    "\n",
    "def compute_similarity_index(choice, fv, deepKeys, topn):\n",
    "    #choice = deepKeys[index]\n",
    "    similarity_scores = fashion_similarity(choice, fv, deepKeys)\n",
    "    similarity_scores[deepKeys.index(choice)] = np.max(similarity_scores)\n",
    "    closest = np.argsort(np.array(similarity_scores))\n",
    "    return [deepKeys[matc] for matc in closest[:topn]]\n",
    "\n",
    "def fashion_dot_best_match(choice, fv, deepKeys, att_vector):\n",
    "    current_vector = att_vector.loc[choice]\n",
    "    bestMatch = compute_similarity_index(choice, fv, deepKeys, topn=5)\n",
    "    dotResults = np.zeros(shape=5, dtype='float32')\n",
    "    for m, match in enumerate(bestMatch):\n",
    "        match_vector = att_vector.loc[match]\n",
    "        dotResults[m] = current_vector.dot(match_vector)\n",
    "    return np.array([dotResults[0], np.sum(dotResults)])\n",
    "\n",
    "def process_dots_chunk(chunk, fv, deepKeys, att_vector):\n",
    "    chunk_dots_results = [fashion_dot_best_match(K, fv, deepKeys, att_vector) for K in chunk]\n",
    "    return np.array(chunk_dots_results)\n",
    "\n",
    "def process_overlap_chunk(chunk, fv, deepKeys, att_vector):\n",
    "    chunk_overlap_results = [fashion_top5_overlap(K, fv, deepKeys, att_vector) for K in chunk]\n",
    "    return np.array(chunk_overlap_results)\n",
    "\n",
    "def fashion_top_overlap(choice, fv, deepKeys, att_vector, topn):\n",
    "    \"\"\"asks overlap of topn from both attributes and features\"\"\"\n",
    "    fvMatch = compute_similarity_index(choice, fv, deepKeys, topn)\n",
    "    attMatch = compute_similarity_index(choice, att_vector.values, deepKeys, topn)\n",
    "    return 2*topn - len(set(fvMatch+attMatch))\n",
    "    \n",
    "#fashion_dot_best_match(deepKeys[55], fv, deepKeys, att_vector)\n",
    "#process_dots_chunk([deepKeys[K] for K in range(100)], fv, deepKeys, att_vector)\n",
    "\n",
    "#overlap = fashion_top5_overlap(deepKeys[0], fv, deepKeys, att_vector)"
   ]
  },
  {
   "cell_type": "code",
   "execution_count": 41,
   "metadata": {
    "ExecuteTime": {
     "end_time": "2018-06-21T20:05:02.112642Z",
     "start_time": "2018-06-21T19:16:57.311299Z"
    }
   },
   "outputs": [
    {
     "name": "stdout",
     "output_type": "stream",
     "text": [
      "(10078, 2)\n",
      "(10078, 2)\n",
      "(10078, 2)\n",
      "(10078, 2)\n"
     ]
    }
   ],
   "source": [
    "feature_vector_names = ['u_current_feature_vector.npy', 'u_hsv.npy', 'u_hog.npy', 'u_encoder.npy']\n",
    "#feature_vector_names = ['u_current_feature_vector.npy', 'u_hsv.npy', 'u_hog.npy']\n",
    "for feat in feature_vector_names:\n",
    "    fv=np.load(feat)\n",
    "\n",
    "    dot_scores_v = 0\n",
    "    dot_scores_list = 0\n",
    "\n",
    "    #with Parallel(n_jobs=-1, verbose=45, backend=\"multiprocessing\") as parallel:\n",
    "        #feature_vectors = Parallel(n_jobs=-1, verbose=2, backend=\"threading\")(delayed(image_to_feature)(K, encoder) for K in x_data)                                  \n",
    "        #dot_scores_list = parallel(delayed(process_dots_chunk)(K, fv, deepKeys, att_vector) for K in dataChunks)                                  \n",
    "    dot_scores_list = [fashion_dot_best_match(K, fv, deepKeys, att_vector) for K in deepKeys]\n",
    "    dot_scores_v = np.array(dot_scores_list)\n",
    "    print(dot_scores_v.shape)\n",
    "    np.save(\"{}_dotv.npy\".format(feat[:-4]), dot_scores_v)"
   ]
  },
  {
   "cell_type": "code",
   "execution_count": 19,
   "metadata": {
    "ExecuteTime": {
     "end_time": "2018-06-21T13:47:25.787460Z",
     "start_time": "2018-06-21T13:47:25.757792Z"
    }
   },
   "outputs": [
    {
     "name": "stdout",
     "output_type": "stream",
     "text": [
      "[0.62532246 2.0969439 ]\n",
      "[0.44185355 1.522822  ]\n",
      "[0.589105  2.0094264]\n"
     ]
    }
   ],
   "source": [
    "#corrected small mistake in code earlier resulting in wrong shape\n",
    "\n",
    "#feature_vector_names = ['u_current_feature_vector.npy', 'u_hsv.npy', 'u_hog.npy', 'u_encoder.npy']\n",
    "#feature_vector_names = ['u_current_feature_vector.npy', 'u_hsv.npy', 'u_hog.npy']\n",
    "#for feat in feature_vector_names:\n",
    "#    dot_scores_v = np.load(\"{}_dotv.npy\".format(feat[:-4]))\n",
    "#    dot_scores_v = np.reshape(dot_scores_v, (10078, 2))\n",
    "#    np.save(\"{}_dotv.npy\".format(feat[:-4]), dot_scores_v)\n",
    "#    print(np.mean(dot_scores_v, axis=0))"
   ]
  },
  {
   "cell_type": "code",
   "execution_count": 14,
   "metadata": {
    "ExecuteTime": {
     "end_time": "2018-06-21T13:41:10.533553Z",
     "start_time": "2018-06-21T13:41:10.511477Z"
    }
   },
   "outputs": [
    {
     "data": {
      "text/plain": [
       "array([0.62532246, 2.0969439 ], dtype=float32)"
      ]
     },
     "execution_count": 14,
     "metadata": {},
     "output_type": "execute_result"
    }
   ],
   "source": [
    "a = np.load(\"u_current_feature_vector_dotv.npy\")\n",
    "a = np.reshape(a, (10078, 2))\n",
    "np.mean(a, axis=0)"
   ]
  },
  {
   "cell_type": "code",
   "execution_count": 18,
   "metadata": {
    "ExecuteTime": {
     "end_time": "2018-06-21T13:44:29.277776Z",
     "start_time": "2018-06-21T13:44:29.257978Z"
    }
   },
   "outputs": [
    {
     "name": "stdout",
     "output_type": "stream",
     "text": [
      "[1 2 3 4 5 6]\n",
      "[[1 2]\n",
      " [3 4]\n",
      " [5 6]]\n"
     ]
    }
   ],
   "source": [
    "testlist=[np.array([1,2]), np.array([3,4]), np.array([5,6])]\n",
    "testlist = np.concatenate(testlist, axis=0)\n",
    "print(testlist)\n",
    "testlist = np.reshape(testlist, (3,2))\n",
    "print(testlist)"
   ]
  },
  {
   "cell_type": "code",
   "execution_count": 52,
   "metadata": {
    "ExecuteTime": {
     "end_time": "2018-06-21T13:33:23.813087Z",
     "start_time": "2018-06-21T13:33:23.792664Z"
    }
   },
   "outputs": [
    {
     "name": "stdout",
     "output_type": "stream",
     "text": [
      "(10078, 2)\n"
     ]
    }
   ],
   "source": [
    "dot_scores_v = np.array(dot_scores_list)\n",
    "print(dot_scores_v.shape)\n",
    "np.save(\"{}_dotv.npy\".format(feat[:-4]), dot_scores_v)"
   ]
  },
  {
   "cell_type": "code",
   "execution_count": 55,
   "metadata": {
    "ExecuteTime": {
     "end_time": "2018-06-21T13:34:38.899008Z",
     "start_time": "2018-06-21T13:34:38.880713Z"
    }
   },
   "outputs": [
    {
     "data": {
      "text/plain": [
       "array([0.39720184, 1.3758682 ], dtype=float32)"
      ]
     },
     "execution_count": 55,
     "metadata": {},
     "output_type": "execute_result"
    }
   ],
   "source": [
    "\"{}_dotv.npy\".format(feat[:-4])\n",
    "np.mean(dot_scores_v, axis=0)"
   ]
  },
  {
   "cell_type": "code",
   "execution_count": 41,
   "metadata": {
    "ExecuteTime": {
     "end_time": "2018-06-21T13:15:11.591816Z",
     "start_time": "2018-06-21T13:15:11.572467Z"
    }
   },
   "outputs": [
    {
     "data": {
      "text/plain": [
       "(10078, 2)"
      ]
     },
     "execution_count": 41,
     "metadata": {},
     "output_type": "execute_result"
    }
   ],
   "source": [
    "a.shape"
   ]
  },
  {
   "cell_type": "code",
   "execution_count": 35,
   "metadata": {
    "ExecuteTime": {
     "end_time": "2018-06-21T05:10:11.353041Z",
     "start_time": "2018-06-21T05:10:11.325846Z"
    }
   },
   "outputs": [
    {
     "name": "stdout",
     "output_type": "stream",
     "text": [
      "u_current_feature_vector_dotv.npy\n",
      "u_hsv_dotv.npy\n",
      "u_hog_dotv.npy\n",
      "u_encoder_dotv.npy\n"
     ]
    }
   ],
   "source": [
    "feature_vector_names = ['u_current_feature_vector.npy', 'u_hsv.npy', 'u_hog.npy', 'u_encoder.npy']\n",
    "for feat in feature_vector_names:\n",
    "    print(\"{}_dotv.npy\".format(feat[:-4]))"
   ]
  },
  {
   "cell_type": "code",
   "execution_count": 11,
   "metadata": {
    "ExecuteTime": {
     "end_time": "2018-06-22T05:58:50.828549Z",
     "start_time": "2018-06-22T05:46:50.098688Z"
    }
   },
   "outputs": [
    {
     "ename": "KeyboardInterrupt",
     "evalue": "",
     "output_type": "error",
     "traceback": [
      "\u001b[0;31m---------------------------------------------------------------------------\u001b[0m",
      "\u001b[0;31mKeyboardInterrupt\u001b[0m                         Traceback (most recent call last)",
      "\u001b[0;32m<ipython-input-11-dc3f1d6251b8>\u001b[0m in \u001b[0;36m<module>\u001b[0;34m()\u001b[0m\n\u001b[1;32m      8\u001b[0m     \u001b[0;31m#overlap_scores_list = parallel(delayed(process_overlap_chunk)(K, fv, deepKeys, att_vector) for K in dataChunks)\u001b[0m\u001b[0;34m\u001b[0m\u001b[0;34m\u001b[0m\u001b[0m\n\u001b[1;32m      9\u001b[0m \u001b[0;34m\u001b[0m\u001b[0m\n\u001b[0;32m---> 10\u001b[0;31m \u001b[0moverlap_scores_list\u001b[0m \u001b[0;34m=\u001b[0m \u001b[0;34m[\u001b[0m\u001b[0mfashion_top_overlap\u001b[0m\u001b[0;34m(\u001b[0m\u001b[0mK\u001b[0m\u001b[0;34m,\u001b[0m \u001b[0mfv\u001b[0m\u001b[0;34m,\u001b[0m \u001b[0mdeepKeys\u001b[0m\u001b[0;34m,\u001b[0m \u001b[0matt_vector\u001b[0m\u001b[0;34m,\u001b[0m \u001b[0;36m10\u001b[0m\u001b[0;34m)\u001b[0m \u001b[0;32mfor\u001b[0m \u001b[0mK\u001b[0m \u001b[0;32min\u001b[0m \u001b[0mdeepKeys\u001b[0m\u001b[0;34m]\u001b[0m\u001b[0;34m\u001b[0m\u001b[0m\n\u001b[0m\u001b[1;32m     11\u001b[0m \u001b[0moverlap_scores_v\u001b[0m \u001b[0;34m=\u001b[0m \u001b[0mnp\u001b[0m\u001b[0;34m.\u001b[0m\u001b[0marray\u001b[0m\u001b[0;34m(\u001b[0m\u001b[0moverlap_scores_list\u001b[0m\u001b[0;34m)\u001b[0m\u001b[0;34m\u001b[0m\u001b[0m\n\u001b[1;32m     12\u001b[0m \u001b[0;34m\u001b[0m\u001b[0m\n",
      "\u001b[0;32m<ipython-input-11-dc3f1d6251b8>\u001b[0m in \u001b[0;36m<listcomp>\u001b[0;34m(.0)\u001b[0m\n\u001b[1;32m      8\u001b[0m     \u001b[0;31m#overlap_scores_list = parallel(delayed(process_overlap_chunk)(K, fv, deepKeys, att_vector) for K in dataChunks)\u001b[0m\u001b[0;34m\u001b[0m\u001b[0;34m\u001b[0m\u001b[0m\n\u001b[1;32m      9\u001b[0m \u001b[0;34m\u001b[0m\u001b[0m\n\u001b[0;32m---> 10\u001b[0;31m \u001b[0moverlap_scores_list\u001b[0m \u001b[0;34m=\u001b[0m \u001b[0;34m[\u001b[0m\u001b[0mfashion_top_overlap\u001b[0m\u001b[0;34m(\u001b[0m\u001b[0mK\u001b[0m\u001b[0;34m,\u001b[0m \u001b[0mfv\u001b[0m\u001b[0;34m,\u001b[0m \u001b[0mdeepKeys\u001b[0m\u001b[0;34m,\u001b[0m \u001b[0matt_vector\u001b[0m\u001b[0;34m,\u001b[0m \u001b[0;36m10\u001b[0m\u001b[0;34m)\u001b[0m \u001b[0;32mfor\u001b[0m \u001b[0mK\u001b[0m \u001b[0;32min\u001b[0m \u001b[0mdeepKeys\u001b[0m\u001b[0;34m]\u001b[0m\u001b[0;34m\u001b[0m\u001b[0m\n\u001b[0m\u001b[1;32m     11\u001b[0m \u001b[0moverlap_scores_v\u001b[0m \u001b[0;34m=\u001b[0m \u001b[0mnp\u001b[0m\u001b[0;34m.\u001b[0m\u001b[0marray\u001b[0m\u001b[0;34m(\u001b[0m\u001b[0moverlap_scores_list\u001b[0m\u001b[0;34m)\u001b[0m\u001b[0;34m\u001b[0m\u001b[0m\n\u001b[1;32m     12\u001b[0m \u001b[0;34m\u001b[0m\u001b[0m\n",
      "\u001b[0;32m<ipython-input-10-6eeb355d31f3>\u001b[0m in \u001b[0;36mfashion_top_overlap\u001b[0;34m(choice, fv, deepKeys, att_vector, topn)\u001b[0m\n\u001b[1;32m     29\u001b[0m \u001b[0;32mdef\u001b[0m \u001b[0mfashion_top_overlap\u001b[0m\u001b[0;34m(\u001b[0m\u001b[0mchoice\u001b[0m\u001b[0;34m,\u001b[0m \u001b[0mfv\u001b[0m\u001b[0;34m,\u001b[0m \u001b[0mdeepKeys\u001b[0m\u001b[0;34m,\u001b[0m \u001b[0matt_vector\u001b[0m\u001b[0;34m,\u001b[0m \u001b[0mtopn\u001b[0m\u001b[0;34m)\u001b[0m\u001b[0;34m:\u001b[0m\u001b[0;34m\u001b[0m\u001b[0m\n\u001b[1;32m     30\u001b[0m     \u001b[0;34m\"\"\"asks overlap of topn from both attributes and features\"\"\"\u001b[0m\u001b[0;34m\u001b[0m\u001b[0m\n\u001b[0;32m---> 31\u001b[0;31m     \u001b[0mfvMatch\u001b[0m \u001b[0;34m=\u001b[0m \u001b[0mcompute_similarity_index\u001b[0m\u001b[0;34m(\u001b[0m\u001b[0mchoice\u001b[0m\u001b[0;34m,\u001b[0m \u001b[0mfv\u001b[0m\u001b[0;34m,\u001b[0m \u001b[0mdeepKeys\u001b[0m\u001b[0;34m,\u001b[0m \u001b[0mtopn\u001b[0m\u001b[0;34m)\u001b[0m\u001b[0;34m\u001b[0m\u001b[0m\n\u001b[0m\u001b[1;32m     32\u001b[0m     \u001b[0mattMatch\u001b[0m \u001b[0;34m=\u001b[0m \u001b[0mcompute_similarity_index\u001b[0m\u001b[0;34m(\u001b[0m\u001b[0mchoice\u001b[0m\u001b[0;34m,\u001b[0m \u001b[0matt_vector\u001b[0m\u001b[0;34m.\u001b[0m\u001b[0mvalues\u001b[0m\u001b[0;34m,\u001b[0m \u001b[0mdeepKeys\u001b[0m\u001b[0;34m,\u001b[0m \u001b[0mtopn\u001b[0m\u001b[0;34m)\u001b[0m\u001b[0;34m\u001b[0m\u001b[0m\n\u001b[1;32m     33\u001b[0m     \u001b[0;32mreturn\u001b[0m \u001b[0;36m2\u001b[0m\u001b[0;34m*\u001b[0m\u001b[0mtopn\u001b[0m \u001b[0;34m-\u001b[0m \u001b[0mlen\u001b[0m\u001b[0;34m(\u001b[0m\u001b[0mset\u001b[0m\u001b[0;34m(\u001b[0m\u001b[0mfvMatch\u001b[0m\u001b[0;34m+\u001b[0m\u001b[0mattMatch\u001b[0m\u001b[0;34m)\u001b[0m\u001b[0;34m)\u001b[0m\u001b[0;34m\u001b[0m\u001b[0m\n",
      "\u001b[0;32m<ipython-input-10-6eeb355d31f3>\u001b[0m in \u001b[0;36mcompute_similarity_index\u001b[0;34m(choice, fv, deepKeys, topn)\u001b[0m\n\u001b[1;32m      5\u001b[0m \u001b[0;32mdef\u001b[0m \u001b[0mcompute_similarity_index\u001b[0m\u001b[0;34m(\u001b[0m\u001b[0mchoice\u001b[0m\u001b[0;34m,\u001b[0m \u001b[0mfv\u001b[0m\u001b[0;34m,\u001b[0m \u001b[0mdeepKeys\u001b[0m\u001b[0;34m,\u001b[0m \u001b[0mtopn\u001b[0m\u001b[0;34m)\u001b[0m\u001b[0;34m:\u001b[0m\u001b[0;34m\u001b[0m\u001b[0m\n\u001b[1;32m      6\u001b[0m     \u001b[0;31m#choice = deepKeys[index]\u001b[0m\u001b[0;34m\u001b[0m\u001b[0;34m\u001b[0m\u001b[0m\n\u001b[0;32m----> 7\u001b[0;31m     \u001b[0msimilarity_scores\u001b[0m \u001b[0;34m=\u001b[0m \u001b[0mfashion_similarity\u001b[0m\u001b[0;34m(\u001b[0m\u001b[0mchoice\u001b[0m\u001b[0;34m,\u001b[0m \u001b[0mfv\u001b[0m\u001b[0;34m,\u001b[0m \u001b[0mdeepKeys\u001b[0m\u001b[0;34m)\u001b[0m\u001b[0;34m\u001b[0m\u001b[0m\n\u001b[0m\u001b[1;32m      8\u001b[0m     \u001b[0msimilarity_scores\u001b[0m\u001b[0;34m[\u001b[0m\u001b[0mdeepKeys\u001b[0m\u001b[0;34m.\u001b[0m\u001b[0mindex\u001b[0m\u001b[0;34m(\u001b[0m\u001b[0mchoice\u001b[0m\u001b[0;34m)\u001b[0m\u001b[0;34m]\u001b[0m \u001b[0;34m=\u001b[0m \u001b[0mnp\u001b[0m\u001b[0;34m.\u001b[0m\u001b[0mmax\u001b[0m\u001b[0;34m(\u001b[0m\u001b[0msimilarity_scores\u001b[0m\u001b[0;34m)\u001b[0m\u001b[0;34m\u001b[0m\u001b[0m\n\u001b[1;32m      9\u001b[0m     \u001b[0mclosest\u001b[0m \u001b[0;34m=\u001b[0m \u001b[0mnp\u001b[0m\u001b[0;34m.\u001b[0m\u001b[0margsort\u001b[0m\u001b[0;34m(\u001b[0m\u001b[0mnp\u001b[0m\u001b[0;34m.\u001b[0m\u001b[0marray\u001b[0m\u001b[0;34m(\u001b[0m\u001b[0msimilarity_scores\u001b[0m\u001b[0;34m)\u001b[0m\u001b[0;34m)\u001b[0m\u001b[0;34m\u001b[0m\u001b[0m\n",
      "\u001b[0;32m~/Dropbox/Insight/SmartMirror_Demo/src/fashion_tools.py\u001b[0m in \u001b[0;36mfashion_similarity\u001b[0;34m(input_txt, features, keys)\u001b[0m\n\u001b[1;32m     18\u001b[0m     \u001b[0minput_vector\u001b[0m \u001b[0;34m=\u001b[0m \u001b[0mfeatures\u001b[0m\u001b[0;34m[\u001b[0m\u001b[0mfeature_index\u001b[0m\u001b[0;34m]\u001b[0m\u001b[0;34m\u001b[0m\u001b[0m\n\u001b[1;32m     19\u001b[0m \u001b[0;34m\u001b[0m\u001b[0m\n\u001b[0;32m---> 20\u001b[0;31m     \u001b[0mscores\u001b[0m \u001b[0;34m=\u001b[0m \u001b[0;34m[\u001b[0m\u001b[0msimilarity_function\u001b[0m\u001b[0;34m(\u001b[0m\u001b[0minput_vector\u001b[0m\u001b[0;34m,\u001b[0m \u001b[0mpartner\u001b[0m\u001b[0;34m)\u001b[0m \u001b[0;32mfor\u001b[0m \u001b[0mpartner\u001b[0m \u001b[0;32min\u001b[0m \u001b[0mfeatures\u001b[0m\u001b[0;34m]\u001b[0m\u001b[0;34m\u001b[0m\u001b[0m\n\u001b[0m\u001b[1;32m     21\u001b[0m     \u001b[0;32mreturn\u001b[0m \u001b[0mscores\u001b[0m\u001b[0;34m\u001b[0m\u001b[0m\n\u001b[1;32m     22\u001b[0m \u001b[0;34m\u001b[0m\u001b[0m\n",
      "\u001b[0;32m~/Dropbox/Insight/SmartMirror_Demo/src/fashion_tools.py\u001b[0m in \u001b[0;36m<listcomp>\u001b[0;34m(.0)\u001b[0m\n\u001b[1;32m     18\u001b[0m     \u001b[0minput_vector\u001b[0m \u001b[0;34m=\u001b[0m \u001b[0mfeatures\u001b[0m\u001b[0;34m[\u001b[0m\u001b[0mfeature_index\u001b[0m\u001b[0;34m]\u001b[0m\u001b[0;34m\u001b[0m\u001b[0m\n\u001b[1;32m     19\u001b[0m \u001b[0;34m\u001b[0m\u001b[0m\n\u001b[0;32m---> 20\u001b[0;31m     \u001b[0mscores\u001b[0m \u001b[0;34m=\u001b[0m \u001b[0;34m[\u001b[0m\u001b[0msimilarity_function\u001b[0m\u001b[0;34m(\u001b[0m\u001b[0minput_vector\u001b[0m\u001b[0;34m,\u001b[0m \u001b[0mpartner\u001b[0m\u001b[0;34m)\u001b[0m \u001b[0;32mfor\u001b[0m \u001b[0mpartner\u001b[0m \u001b[0;32min\u001b[0m \u001b[0mfeatures\u001b[0m\u001b[0;34m]\u001b[0m\u001b[0;34m\u001b[0m\u001b[0m\n\u001b[0m\u001b[1;32m     21\u001b[0m     \u001b[0;32mreturn\u001b[0m \u001b[0mscores\u001b[0m\u001b[0;34m\u001b[0m\u001b[0m\n\u001b[1;32m     22\u001b[0m \u001b[0;34m\u001b[0m\u001b[0m\n",
      "\u001b[0;32m~/Dropbox/Insight/SmartMirror_Demo/src/fashion_tools.py\u001b[0m in \u001b[0;36msimilarity_function\u001b[0;34m(feature1, feature2)\u001b[0m\n\u001b[1;32m     40\u001b[0m \u001b[0;34m\u001b[0m\u001b[0m\n\u001b[1;32m     41\u001b[0m     \u001b[0mabs_distance\u001b[0m \u001b[0;34m=\u001b[0m \u001b[0mnp\u001b[0m\u001b[0;34m.\u001b[0m\u001b[0mabs\u001b[0m\u001b[0;34m(\u001b[0m\u001b[0mfeature1\u001b[0m \u001b[0;34m-\u001b[0m \u001b[0mfeature2\u001b[0m\u001b[0;34m)\u001b[0m\u001b[0;34m\u001b[0m\u001b[0m\n\u001b[0;32m---> 42\u001b[0;31m     \u001b[0;32mreturn\u001b[0m \u001b[0mnp\u001b[0m\u001b[0;34m.\u001b[0m\u001b[0msum\u001b[0m\u001b[0;34m(\u001b[0m\u001b[0mabs_distance\u001b[0m\u001b[0;34m)\u001b[0m\u001b[0;34m\u001b[0m\u001b[0m\n\u001b[0m\u001b[1;32m     43\u001b[0m \u001b[0;34m\u001b[0m\u001b[0m\n\u001b[1;32m     44\u001b[0m \u001b[0;34m\u001b[0m\u001b[0m\n",
      "\u001b[0;32m/usr/lib/python3.6/site-packages/numpy/core/fromnumeric.py\u001b[0m in \u001b[0;36msum\u001b[0;34m(a, axis, dtype, out, keepdims)\u001b[0m\n\u001b[1;32m   1880\u001b[0m             \u001b[0;32mreturn\u001b[0m \u001b[0msum\u001b[0m\u001b[0;34m(\u001b[0m\u001b[0maxis\u001b[0m\u001b[0;34m=\u001b[0m\u001b[0maxis\u001b[0m\u001b[0;34m,\u001b[0m \u001b[0mdtype\u001b[0m\u001b[0;34m=\u001b[0m\u001b[0mdtype\u001b[0m\u001b[0;34m,\u001b[0m \u001b[0mout\u001b[0m\u001b[0;34m=\u001b[0m\u001b[0mout\u001b[0m\u001b[0;34m,\u001b[0m \u001b[0;34m**\u001b[0m\u001b[0mkwargs\u001b[0m\u001b[0;34m)\u001b[0m\u001b[0;34m\u001b[0m\u001b[0m\n\u001b[1;32m   1881\u001b[0m     return _methods._sum(a, axis=axis, dtype=dtype,\n\u001b[0;32m-> 1882\u001b[0;31m                          out=out, **kwargs)\n\u001b[0m\u001b[1;32m   1883\u001b[0m \u001b[0;34m\u001b[0m\u001b[0m\n\u001b[1;32m   1884\u001b[0m \u001b[0;34m\u001b[0m\u001b[0m\n",
      "\u001b[0;32m/usr/lib/python3.6/site-packages/numpy/core/_methods.py\u001b[0m in \u001b[0;36m_sum\u001b[0;34m(a, axis, dtype, out, keepdims)\u001b[0m\n\u001b[1;32m     30\u001b[0m \u001b[0;34m\u001b[0m\u001b[0m\n\u001b[1;32m     31\u001b[0m \u001b[0;32mdef\u001b[0m \u001b[0m_sum\u001b[0m\u001b[0;34m(\u001b[0m\u001b[0ma\u001b[0m\u001b[0;34m,\u001b[0m \u001b[0maxis\u001b[0m\u001b[0;34m=\u001b[0m\u001b[0;32mNone\u001b[0m\u001b[0;34m,\u001b[0m \u001b[0mdtype\u001b[0m\u001b[0;34m=\u001b[0m\u001b[0;32mNone\u001b[0m\u001b[0;34m,\u001b[0m \u001b[0mout\u001b[0m\u001b[0;34m=\u001b[0m\u001b[0;32mNone\u001b[0m\u001b[0;34m,\u001b[0m \u001b[0mkeepdims\u001b[0m\u001b[0;34m=\u001b[0m\u001b[0;32mFalse\u001b[0m\u001b[0;34m)\u001b[0m\u001b[0;34m:\u001b[0m\u001b[0;34m\u001b[0m\u001b[0m\n\u001b[0;32m---> 32\u001b[0;31m     \u001b[0;32mreturn\u001b[0m \u001b[0mumr_sum\u001b[0m\u001b[0;34m(\u001b[0m\u001b[0ma\u001b[0m\u001b[0;34m,\u001b[0m \u001b[0maxis\u001b[0m\u001b[0;34m,\u001b[0m \u001b[0mdtype\u001b[0m\u001b[0;34m,\u001b[0m \u001b[0mout\u001b[0m\u001b[0;34m,\u001b[0m \u001b[0mkeepdims\u001b[0m\u001b[0;34m)\u001b[0m\u001b[0;34m\u001b[0m\u001b[0m\n\u001b[0m\u001b[1;32m     33\u001b[0m \u001b[0;34m\u001b[0m\u001b[0m\n\u001b[1;32m     34\u001b[0m \u001b[0;32mdef\u001b[0m \u001b[0m_prod\u001b[0m\u001b[0;34m(\u001b[0m\u001b[0ma\u001b[0m\u001b[0;34m,\u001b[0m \u001b[0maxis\u001b[0m\u001b[0;34m=\u001b[0m\u001b[0;32mNone\u001b[0m\u001b[0;34m,\u001b[0m \u001b[0mdtype\u001b[0m\u001b[0;34m=\u001b[0m\u001b[0;32mNone\u001b[0m\u001b[0;34m,\u001b[0m \u001b[0mout\u001b[0m\u001b[0;34m=\u001b[0m\u001b[0;32mNone\u001b[0m\u001b[0;34m,\u001b[0m \u001b[0mkeepdims\u001b[0m\u001b[0;34m=\u001b[0m\u001b[0;32mFalse\u001b[0m\u001b[0;34m)\u001b[0m\u001b[0;34m:\u001b[0m\u001b[0;34m\u001b[0m\u001b[0m\n",
      "\u001b[0;31mKeyboardInterrupt\u001b[0m: "
     ]
    }
   ],
   "source": [
    "#this is the overlap of the top5 based on full features or just on attribute vector\n",
    "\n",
    "overlap_scores_v = 0\n",
    "overlap_scores_list = 0\n",
    "\n",
    "#with Parallel(n_jobs=-1, verbose=45, backend=\"multiprocessing\") as parallel:\n",
    "    #feature_vectors = Parallel(n_jobs=-1, verbose=2, backend=\"threading\")(delayed(image_to_feature)(K, encoder) for K in x_data)                                  \n",
    "    #overlap_scores_list = parallel(delayed(process_overlap_chunk)(K, fv, deepKeys, att_vector) for K in dataChunks)                                  \n",
    "\n",
    "overlap_scores_list = [fashion_top_overlap(K, fv, deepKeys, att_vector, 10) for K in deepKeys]    \n",
    "overlap_scores_v = np.array(overlap_scores_list)\n",
    "\n",
    "np.save(\"overlap_scores10.npy\", overlap_scores_v)"
   ]
  },
  {
   "cell_type": "code",
   "execution_count": 38,
   "metadata": {
    "ExecuteTime": {
     "end_time": "2018-06-21T18:44:54.195134Z",
     "start_time": "2018-06-21T18:44:54.175643Z"
    }
   },
   "outputs": [],
   "source": [
    "#overlap_scores_v += 10\n",
    "#np.save(\"overlap_scores10.npy\", overlap_scores_v)"
   ]
  },
  {
   "cell_type": "code",
   "execution_count": 43,
   "metadata": {
    "ExecuteTime": {
     "end_time": "2018-06-21T21:32:53.095582Z",
     "start_time": "2018-06-21T21:32:52.990946Z"
    }
   },
   "outputs": [
    {
     "data": {
      "text/plain": [
       "<BarContainer object of 10 artists>"
      ]
     },
     "execution_count": 43,
     "metadata": {},
     "output_type": "execute_result"
    },
    {
     "data": {
      "image/png": "[encoded data removed]",
      "text/plain": [
       "<Figure size 432x288 with 1 Axes>"
      ]
     },
     "metadata": {},
     "output_type": "display_data"
    }
   ],
   "source": [
    "import matplotlib.pyplot as plt\n",
    "%matplotlib inline\n",
    "oh, b = np.histogram(overlap_scores_v+10)\n",
    "plt.bar(b[1:], oh)"
   ]
  },
  {
   "cell_type": "code",
   "execution_count": 44,
   "metadata": {
    "ExecuteTime": {
     "end_time": "2018-06-21T21:35:14.455546Z",
     "start_time": "2018-06-21T21:35:14.438521Z"
    }
   },
   "outputs": [
    {
     "data": {
      "text/plain": [
       "3"
      ]
     },
     "execution_count": 44,
     "metadata": {},
     "output_type": "execute_result"
    }
   ],
   "source": [
    "np.max(overlap_scores_v)\n"
   ]
  }
 ],
 "metadata": {
  "kernelspec": {
   "display_name": "Python 3",
   "language": "python",
   "name": "python3"
  },
  "language_info": {
   "codemirror_mode": {
    "name": "ipython",
    "version": 3
   },
   "file_extension": ".py",
   "mimetype": "text/x-python",
   "name": "python",
   "nbconvert_exporter": "python",
   "pygments_lexer": "ipython3",
   "version": "3.6.5"
  },
  "toc": {
   "nav_menu": {},
   "number_sections": true,
   "sideBar": true,
   "skip_h1_title": false,
   "title_cell": "Table of Contents",
   "title_sidebar": "Contents",
   "toc_cell": false,
   "toc_position": {},
   "toc_section_display": true,
   "toc_window_display": false
  },
  "varInspector": {
   "cols": {
    "lenName": 16,
    "lenType": 16,
    "lenVar": 40
   },
   "kernels_config": {
    "python": {
     "delete_cmd_postfix": "",
     "delete_cmd_prefix": "del ",
     "library": "var_list.py",
     "varRefreshCmd": "print(var_dic_list())"
    },
    "r": {
     "delete_cmd_postfix": ") ",
     "delete_cmd_prefix": "rm(",
     "library": "var_list.r",
     "varRefreshCmd": "cat(var_dic_list()) "
    }
   },
   "types_to_exclude": [
    "module",
    "function",
    "builtin_function_or_method",
    "instance",
    "_Feature"
   ],
   "window_display": false
  }
 },
 "nbformat": 4,
 "nbformat_minor": 2
}
